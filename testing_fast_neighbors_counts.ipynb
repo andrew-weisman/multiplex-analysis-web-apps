{
 "cells": [
  {
   "cell_type": "markdown",
   "metadata": {},
   "source": [
    "Calling of fast neighbors counts from neighbors_counts_for_neighborhood_profiles_orig (last block) worked, taking 34 sec to calculate all neighbors on the 1.3 M cell dataset (21 images). Need to pick up with comparing actual results with those using the cdist method and then, if it agrees, we need to implement into MAWA, at least neighborhood profiles."
   ]
  },
  {
   "cell_type": "code",
   "execution_count": null,
   "metadata": {
    "tags": []
   },
   "outputs": [],
   "source": [
    "# This works\n",
    "\n",
    "import scipy.spatial\n",
    "import pandas as pd\n",
    "import time\n",
    "import numpy as np\n",
    "\n",
    "# def fast_neighbors_counts_for_block(df_all_images, image_column_name, image_name, coord_column_names, phenotypes, radii, phenotype_column_name):\n",
    "def fast_neighbors_counts_for_block(df_image, image_name, coord_column_names, phenotypes, radii, phenotype_column_name):\n",
    "    # A block can be an image, ROI, etc. It's the entity over which it makes sense to calculate the neighbors of centers. Here, we're assuming it's an image, but in the SIT for e.g., we generally want it to refer to a ROI.\n",
    "\n",
    "    # Print the image name\n",
    "    print(f'Calculating neighbor counts for image {image_name} ({len(df_image)} cells)...')\n",
    "\n",
    "    start_time = time.time()\n",
    "\n",
    "    # Get the boolean series identifying the current image specified by image_name\n",
    "    # ser_curr_image = df_all_images[image_column_name] == image_name\n",
    "\n",
    "    # Get the number of cells in the current image\n",
    "    # num_cells_in_image = ser_curr_image.sum()\n",
    "    # num_cells_in_image = len(df_image)\n",
    "\n",
    "    # Construct the KDTree for the entire current image. This represents the centers\n",
    "    # center_tree = scipy.spatial.KDTree(df_all_images.loc[ser_curr_image, coord_column_names])\n",
    "    center_tree = scipy.spatial.KDTree(df_image[coord_column_names])\n",
    "\n",
    "    # Initialize a list to hold the dataframes of neighbor counts for each radius (not each radius range)\n",
    "    # df_counts_holder = [pd.DataFrame(0, index=phenotypes, columns=range(num_cells_in_image)) for _ in radii]\n",
    "    df_counts_holder = [pd.DataFrame(0, index=phenotypes, columns=df_image.index) for _ in radii]\n",
    "\n",
    "    # For each phenotype...\n",
    "    for neighbor_phenotype in phenotypes:\n",
    "\n",
    "        # Get the boolean series identifying the current neighbor phenotype\n",
    "        # ser_curr_neighbor_phenotype = df_all_images[phenotype_column_name] == neighbor_phenotype\n",
    "        ser_curr_neighbor_phenotype = df_image[phenotype_column_name] == neighbor_phenotype\n",
    "\n",
    "        # Construct the KDTree for the current phenotype in the entire current image. This represents the neighbors\n",
    "        # curr_neighbor_tree = scipy.spatial.KDTree(df_all_images.loc[ser_curr_image & ser_curr_neighbor_phenotype, coord_column_names])\n",
    "        curr_neighbor_tree = scipy.spatial.KDTree(df_image.loc[ser_curr_neighbor_phenotype, coord_column_names])\n",
    "\n",
    "        # For each radius, which should be monotonically increasing and start with 0...\n",
    "        for iradius, radius in enumerate(radii):\n",
    "\n",
    "            # Get the list of lists containing the indices of the neighbors for each center\n",
    "            neighbors_for_radius = center_tree.query_ball_tree(curr_neighbor_tree, radius)\n",
    "\n",
    "            # In the correct dataframe (corresponding to the current radius), set the counts of neighbors (of the current phenotype) for each center\n",
    "            df_counts_holder[iradius].loc[neighbor_phenotype, :] = [len(neighbors_for_center) for neighbors_for_center in neighbors_for_radius]\n",
    "\n",
    "    # For each annulus, i.e., each radius range...\n",
    "    df_counts_holder_annulus = []\n",
    "    for iradius in range(len(radii) - 1):\n",
    "\n",
    "        # Get the counts of neighbors in the current annulus\n",
    "        df_counts_curr_annulus = df_counts_holder[iradius + 1] - df_counts_holder[iradius]\n",
    "\n",
    "        # Rename the index to reflect the current radius range\n",
    "        radius_range_str = f'({radii[iradius]}, {radii[iradius + 1]}]'\n",
    "        df_counts_curr_annulus.index = [f'{phenotype} in {radius_range_str}' for phenotype in phenotypes]\n",
    "\n",
    "        # Add a transpose of this (so centers are in rows and phenotypes/radii are in columns) to the running list of annulus dataframes\n",
    "        df_counts_holder_annulus.append(df_counts_curr_annulus.T)\n",
    "\n",
    "    # Concatenate the annulus dataframes to get the final dataframe of neighbor counts for the current image\n",
    "    df_curr_counts = pd.concat(df_counts_holder_annulus, axis='columns')\n",
    "\n",
    "    # Set the index of the final dataframe to correspond to that of the original dataframe\n",
    "    # df_curr_counts.index = df_all_images[ser_curr_image].index\n",
    "    # df_curr_counts.index = df_image.index\n",
    "\n",
    "    df_curr_counts = df_curr_counts.astype(np.int32)\n",
    "\n",
    "    print(f'  ...finished calculating neighbor counts for image {image_name} ({len(df_image)} cells) in {time.time() - start_time:.2f} seconds')\n",
    "\n",
    "    # Return the final dataframe of neighbor counts for the current image\n",
    "    return df_curr_counts"
   ]
  },
  {
   "cell_type": "code",
   "execution_count": null,
   "metadata": {
    "tags": []
   },
   "outputs": [],
   "source": [
    "# This works\n",
    "\n",
    "import os\n",
    "import numpy as np\n",
    "import utils\n",
    "\n",
    "# Parameters\n",
    "input_file = os.path.join('.', 'input', 'Combo_CSVfiles_20230327_152849.csv')\n",
    "radii = np.array([0, 25, 50, 100, 150, 200])\n",
    "coord_column_names = ['CentroidX', 'CentroidY']\n",
    "image_column_name = 'ShortName'\n",
    "phenotype_column_name = 'pheno_20230327_152849'\n",
    "method = 'kdtree'\n",
    "\n",
    "# Read in the datafile\n",
    "df = pd.read_csv(input_file)\n",
    "df = utils.downcast_dataframe_dtypes(pd.read_csv(input_file))\n",
    "\n",
    "# To see mapping of phenotype names\n",
    "# print(df.iloc[:, 83:92].drop_duplicates())\n",
    "\n",
    "# Variables\n",
    "image_names = sorted(df[image_column_name].unique())\n",
    "phenotypes = df[phenotype_column_name].value_counts().index"
   ]
  },
  {
   "cell_type": "code",
   "execution_count": null,
   "metadata": {
    "tags": []
   },
   "outputs": [],
   "source": [
    "tuple_holder = []\n",
    "\n",
    "for image_name in image_names:\n",
    "    # print(fast_neighbors_counts_for_block(df[df[image_column_name] == image_name], image_name, coord_column_names, phenotypes, radii, phenotype_column_name).shape)  # 9.7, 15.0, 7.8, 8.1, 9.5, 8.8, 8.0, 11.6, 7.7, 8.5, 8.0\n",
    "    tuple_holder.append((df[df[image_column_name] == image_name], image_name, coord_column_names, phenotypes, radii, phenotype_column_name))"
   ]
  },
  {
   "cell_type": "code",
   "execution_count": null,
   "metadata": {
    "tags": []
   },
   "outputs": [],
   "source": [
    "# This works (5/7/24 at 2:27 PM )\n",
    "\n",
    "for curr_tuple in tuple_holder[:4]:\n",
    "    print(fast_neighbors_counts_for_block(*curr_tuple).shape)"
   ]
  },
  {
   "cell_type": "code",
   "execution_count": null,
   "metadata": {
    "tags": []
   },
   "outputs": [],
   "source": [
    "from itertools import starmap\n",
    "\n",
    "# Apply the function to each tuple in tuple_holder\n",
    "result = list(starmap(fast_neighbors_counts_for_block, tuple_holder[:4]))\n",
    "\n",
    "# Print the shape of each result\n",
    "for res in result:\n",
    "    print(res.shape)"
   ]
  },
  {
   "cell_type": "code",
   "execution_count": null,
   "metadata": {},
   "outputs": [],
   "source": []
  },
  {
   "cell_type": "code",
   "execution_count": null,
   "metadata": {
    "tags": []
   },
   "outputs": [],
   "source": [
    "# seems to work\n",
    "\n",
    "from multiprocessing import Pool\n",
    "\n",
    "# Create a pool of worker processes\n",
    "with Pool(7) as p:\n",
    "    # Apply the function to each tuple in tuple_holder\n",
    "    result = p.starmap(fast_neighbors_counts_for_block, tuple_holder)\n",
    "\n",
    "# Print the shape of each result\n",
    "for res in result:\n",
    "    print(res.shape)"
   ]
  },
  {
   "cell_type": "code",
   "execution_count": null,
   "metadata": {
    "tags": []
   },
   "outputs": [],
   "source": [
    "df_counts = pd.concat(result, axis='index')"
   ]
  },
  {
   "cell_type": "code",
   "execution_count": null,
   "metadata": {
    "tags": []
   },
   "outputs": [],
   "source": [
    "df_counts"
   ]
  },
  {
   "cell_type": "code",
   "execution_count": null,
   "metadata": {
    "tags": []
   },
   "outputs": [],
   "source": [
    "# We don't expect this or any parallel code to work without a name == main block, so skipping this in favor of the next block\n",
    "\n",
    "import utils\n",
    "\n",
    "nworkers = 7\n",
    "\n",
    "df_counts_holder = utils.execute_data_parallelism_potentially(function=fast_neighbors_counts_for_block, list_of_tuple_arguments=tuple_holder, nworkers=nworkers, task_description='calculation of the counts matrix for all images', do_benchmarking=True, mp_start_method=None, use_starmap=True)\n",
    "\n",
    "df_counts = pd.concat(df_counts_holder, axis='index')\n",
    "\n",
    "df_counts"
   ]
  },
  {
   "cell_type": "code",
   "execution_count": null,
   "metadata": {},
   "outputs": [],
   "source": [
    "import full_script_for_fast_neighbors_counts\n",
    "\n",
    "df_counts = full_script_for_fast_neighbors_counts.main()"
   ]
  },
  {
   "cell_type": "code",
   "execution_count": null,
   "metadata": {
    "tags": []
   },
   "outputs": [],
   "source": [
    "df_counts"
   ]
  },
  {
   "cell_type": "code",
   "execution_count": null,
   "metadata": {},
   "outputs": [],
   "source": []
  },
  {
   "cell_type": "code",
   "execution_count": null,
   "metadata": {
    "tags": []
   },
   "outputs": [],
   "source": [
    "import neighbors_counts_for_neighborhood_profiles_orig\n",
    "\n",
    "df_counts = neighbors_counts_for_neighborhood_profiles_orig.main()\n",
    "\n",
    "df_counts"
   ]
  },
  {
   "cell_type": "code",
   "execution_count": null,
   "metadata": {},
   "outputs": [],
   "source": []
  }
 ],
 "metadata": {
  "kernelspec": {
   "display_name": "Python 3 (ipykernel)",
   "language": "python",
   "name": "python3"
  },
  "language_info": {
   "codemirror_mode": {
    "name": "ipython",
    "version": 3
   },
   "file_extension": ".py",
   "mimetype": "text/x-python",
   "name": "python",
   "nbconvert_exporter": "python",
   "pygments_lexer": "ipython3",
   "version": "3.9.19"
  }
 },
 "nbformat": 4,
 "nbformat_minor": 4
}
