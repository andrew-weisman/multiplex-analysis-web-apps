{
 "cells": [
  {
   "cell_type": "code",
   "execution_count": null,
   "metadata": {},
   "outputs": [],
   "source": [
    "class dummySessionState:\n",
    "    '''\n",
    "    This is a simple class meant to mimic the SessionState class \n",
    "    from the streamlit library. It is used to store the state of the \n",
    "    app and its variables.\n",
    "    '''\n",
    "    def __init__(self):\n",
    "        pass\n",
    "\n",
    "    def __setitem__(self, key, value):\n",
    "        setattr(self, key, value)\n",
    "\n",
    "    def __getitem__(self, key):\n",
    "        return getattr(self, key)"
   ]
  },
  {
   "cell_type": "code",
   "execution_count": null,
   "metadata": {},
   "outputs": [],
   "source": [
    "import subprocess\n",
    "import numpy as np\n",
    "import platform_io\n",
    "\n",
    "# Import relevant libraries\n",
    "import nidap_dashboard_lib as ndl   # Useful functions for dashboards connected to NIDAP\n",
    "import basic_phenotyper_lib as bpl  # Useful functions for phenotyping collections of cells\n",
    "\n",
    "def top_of_page_reqs(session_state):\n",
    "    '''\n",
    "    Top of the page requirements. These are the commands\n",
    "    that are run at the top of the page that help maintain \n",
    "    '''\n",
    "\n",
    "    # Initalize session_state values for streamlit processing\n",
    "    session_state = ndl.init_session_state(session_state)\n",
    "\n",
    "    # Check the platform\n",
    "    session_state = check_for_platform(session_state)\n",
    "\n",
    "    return session_state\n",
    "\n",
    "def platform_is_nidap():\n",
    "    '''\n",
    "    Check if the Streamlit application is operating on NIDAP\n",
    "    '''\n",
    "    return np.any(['nidap.nih.gov' in x for x in subprocess.run('conda config --show channels', shell=True, capture_output=True).stdout.decode().split('\\n')[1:-1]])\n",
    "\n",
    "def check_for_platform(session_state):\n",
    "    '''\n",
    "    Set the platform parameters based on the platform the Streamlit app is running on\n",
    "    '''\n",
    "    # Initialize the platform object\n",
    "\n",
    "    session_state['platform'] = platform_io.Platform(platform=('nidap' if platform_is_nidap() else 'local'))\n",
    "    return session_state\n",
    "\n",
    "def apply_umap(session_state, umap_style):\n",
    "    '''\n",
    "    Call back function for applying the UMAP functions\n",
    "    '''\n",
    "    clust_minmax = [1, 40]\n",
    "    session_state.bc.startTimer()\n",
    "    session_state.spatial_umap = bpl.perform_spatialUMAP(session_state.spatial_umap,\n",
    "                                                                umap_style)\n",
    "\n",
    "    # Record time elapsed\n",
    "    session_state.bc.printElapsedTime(msg = 'Performing UMAP')\n",
    "    session_state.bc.set_value_df('time_to_run_UMAP', session_state.bc.elapsedTime())\n",
    "\n",
    "    # List of possible UMAP Lineages as defined by the completed UMAP\n",
    "    session_state.umapPheno = [session_state.defLineageOpt]\n",
    "    session_state.umapPheno.extend(session_state.pheno_summ['phenotype'])\n",
    "    session_state.umapMarks = [session_state.defLineageOpt]\n",
    "    session_state.umapMarks.extend(session_state.spatial_umap.markers)\n",
    "    session_state.umapMarks.extend(['Other'])\n",
    "\n",
    "    # Identify all of the features in the dataframe\n",
    "    session_state.outcomes = session_state.spatial_umap.cells.columns\n",
    "\n",
    "    # List of possible outcome variables as defined by the config yaml files\n",
    "    session_state.umapOutcomes = [session_state.defumapOutcomes]\n",
    "    session_state.umapOutcomes.extend(session_state.outcomes)\n",
    "    session_state.inciOutcomes = [session_state.definciOutcomes]\n",
    "    session_state.inciOutcomes.extend(session_state.outcomes)\n",
    "\n",
    "    session_state.df_umap = session_state.spatial_umap.cells.loc[session_state.spatial_umap.cells['umap_test'], :]\n",
    "\n",
    "    # Perform possible cluster variations with the completed UMAP\n",
    "    session_state.bc.startTimer()\n",
    "    session_state.clust_range, session_state.wcss = bpl.measure_possible_clust(session_state.spatial_umap, clust_minmax)\n",
    "    session_state.bc.printElapsedTime(msg = 'Calculating possible clusters')\n",
    "\n",
    "    session_state.wcss_calc_completed = True\n",
    "    session_state.umapCompleted = True\n",
    "\n",
    "    session_state = filter_and_plot(session_state)\n",
    "\n",
    "    return session_state\n",
    "\n",
    "def set_clusters(session_state):\n",
    "    '''\n",
    "    Callback function for setting the number of clusters\n",
    "    and applying them to the UMAP/dataset\n",
    "    '''\n",
    "    session_state.bc.startTimer()\n",
    "    session_state.spatial_umap = bpl.perform_clusteringUMAP(session_state.spatial_umap,\n",
    "                                                            session_state.slider_clus_val)\n",
    "    session_state.selected_nClus = session_state.slider_clus_val\n",
    "\n",
    "    # Record time elapsed\n",
    "    session_state.bc.printElapsedTime(msg = 'Setting Clusters')\n",
    "    session_state.bc.set_value_df('time_to_run_cluster', session_state.bc.elapsedTime())\n",
    "\n",
    "    session_state.clustering_completed = True\n",
    "\n",
    "    session_state = filter_and_plot(session_state)\n",
    "\n",
    "    return session_state\n",
    "\n",
    "def filter_and_plot(session_state):\n",
    "    '''\n",
    "    function to update the filtering and the figure plotting\n",
    "    '''\n",
    "    if session_state.umapCompleted:\n",
    "        session_state.df_umap_filt = session_state.spatial_umap.cells.loc[session_state.spatial_umap.cells['Slide ID'] == session_state['selSlide ID'], :]\n",
    "        session_state = ndl.setFigureObjs_UMAP(session_state)\n",
    "\n",
    "    return session_state"
   ]
  },
  {
   "cell_type": "code",
   "execution_count": null,
   "metadata": {},
   "outputs": [],
   "source": [
    "# Import relevant libraries\n",
    "import nidap_dashboard_lib as ndl   # Useful functions for dashboards connected to NIDAP\n",
    "import basic_phenotyper_lib as bpl  # Useful functions for phenotyping collections of cells\n",
    "import dataset_formats\n",
    "\n",
    "session_state = dummySessionState()\n",
    "\n",
    "# Run Top of Page (TOP) functions\n",
    "session_state = top_of_page_reqs(session_state)\n",
    "\n",
    "selectProj_u = 'C:/DATA/neighborhood-profiles/'\n",
    "filename = 'input/pt_pt_pt_TnT 48h Untreated zScore areaNorm 48 h AA1 Reg_microns.csv'\n",
    "# filename = 'input/ComboUntreatedNoH.csv'\n",
    "# filename = 'input/Combo_CSVfiles_20230327_152849.csv'\n",
    "dataset_path = selectProj_u + filename\n",
    "\n",
    "_, _, _, _, file_format, _ = dataset_formats.extract_datafile_metadata(filename)\n",
    "\n",
    "dataset_class = getattr(dataset_formats, file_format)\n",
    "dataset_obj = dataset_class(filename, \n",
    "                            coord_units_in_microns = 1, \n",
    "                            extra_cols_to_keep=['tNt', 'GOODNUC', 'HYPOXIC', 'NORMOXIC', 'NucArea', 'RelOrientation'])\n",
    "dataset_obj.process_dataset()\n",
    "\n",
    "# Load dataset into Memory\n",
    "df_load = ndl.load_dataset(session_state.fiol, filename, files_dict = 'None', file_path = 'None', loadCompass=False)\n",
    "\n",
    "# Perform pre-processing Steps\n",
    "session_state = ndl.loadDataButton(session_state, dataset_obj.data, 'Local Upload', filename[:-4])\n",
    "\n",
    "# Update \n",
    "session_state.marker_names = ['VIM', 'ECAD', 'NOS2', 'COX2']\n",
    "# session_state.marker_names = ['CD8', 'COX2', 'NOS2']\n",
    "session_state = ndl.set_phenotyping_elements(session_state, session_state.df_raw)\n",
    "\n",
    "# Apply Phenotyping Method\n",
    "session_state.selected_phenoMeth = 'Species'\n",
    "session_state = ndl.updatePhenotyping(session_state)"
   ]
  },
  {
   "cell_type": "code",
   "execution_count": null,
   "metadata": {},
   "outputs": [],
   "source": [
    "# Reset the settings required for Neighborhood Analysis\n",
    "session_state = ndl.reset_neigh_profile_settings(session_state)\n",
    "\n",
    "session_state.bc.startTimer()\n",
    "session_state.spatial_umap = bpl.setup_Spatial_UMAP(session_state.df,\n",
    "                                                    session_state.marker_multi_sel,\n",
    "                                                    session_state.phenoOrder)\n",
    "\n",
    "session_state.spatial_umap = bpl.perform_density_calc(session_state.spatial_umap,\n",
    "                                                      session_state.bc,\n",
    "                                                      session_state.cpu_pool_size)\n",
    "\n",
    "# Record time elapsed\n",
    "session_state.bc.set_value_df('time_to_run_counts', session_state.bc.elapsedTime())\n",
    "\n",
    "session_state.cell_counts_completed = True"
   ]
  },
  {
   "cell_type": "code",
   "execution_count": null,
   "metadata": {},
   "outputs": [],
   "source": [
    "counts = session_state.spatial_umap.calculate_density_matrix_for_all_images()"
   ]
  },
  {
   "cell_type": "code",
   "execution_count": null,
   "metadata": {},
   "outputs": [],
   "source": [
    "def check_same_array(arr1, arr2):\n",
    "    if((arr1 == arr2).all() == True):\n",
    "        print(\" Yes!! The given arrays are equal. \")\n",
    "    else:\n",
    "        print(\" The given arrays are not equal. \")"
   ]
  },
  {
   "cell_type": "code",
   "execution_count": null,
   "metadata": {},
   "outputs": [],
   "source": [
    "arr1 = session_state.spatial_umap.counts\n",
    "arr2 = counts\n",
    "\n",
    "arr2"
   ]
  },
  {
   "cell_type": "code",
   "execution_count": null,
   "metadata": {},
   "outputs": [],
   "source": [
    "df = session_state.spatial_umap.cells\n",
    "df.to_csv('sample_ptptpt.csv', index=False)"
   ]
  },
  {
   "cell_type": "code",
   "execution_count": null,
   "metadata": {},
   "outputs": [],
   "source": [
    "import multiprocessing as mp\n",
    "from functools import partial\n",
    "\n",
    "chunk = range(20)\n",
    "idx = range(len(session_state.spatial_umap.cell_positions))\n",
    "args = dict(cell_positions=session_state.spatial_umap.cell_positions[idx],\n",
    "            cell_labels=session_state.spatial_umap.cell_labels.values[idx],\n",
    "            dist_bin_px=session_state.spatial_umap.dist_bin_px)\n",
    "pool_map_fn = partial(session_state.spatial_umap.process_cell_counts, **args)\n",
    "\n",
    "results = list(map(pool_map_fn, chunk))\n",
    "counts = list(map(lambda x: np.stack(x, axis=0), results))\n",
    "session_state.spatial_umap.counts[chunk] = counts\n"
   ]
  },
  {
   "cell_type": "code",
   "execution_count": null,
   "metadata": {},
   "outputs": [],
   "source": [
    "import dill\n",
    "ptptpt_baras_counts = session_state.spatial_umap.counts\n",
    "with open(\"density_calculation_benchmarking\", \"wb\") as dill_file:\n",
    "    dill.dump(ptptpt_baras_counts, dill_file)\n"
   ]
  },
  {
   "cell_type": "code",
   "execution_count": null,
   "metadata": {},
   "outputs": [],
   "source": [
    "session_state = apply_umap(session_state, umap_style = 'Densities')"
   ]
  },
  {
   "cell_type": "code",
   "execution_count": null,
   "metadata": {},
   "outputs": [],
   "source": [
    "session_state.slider_clus_val = 5\n",
    "elbowFig = bpl.draw_wcss_elbow_plot(session_state.clust_range, session_state.wcss, session_state.slider_clus_val)\n",
    "\n",
    "# Perform Clustering\n",
    "session_state = set_clusters(session_state)"
   ]
  },
  {
   "cell_type": "code",
   "execution_count": null,
   "metadata": {},
   "outputs": [],
   "source": [
    "df_sample = session_state.spatial_umap.cells.loc[0:200, ['Slide ID', 'Cell X Position', 'Cell Y Position', 'Lineage']]\n",
    "df_sample.to_csv('sample.csv', index=False)"
   ]
  },
  {
   "attachments": {},
   "cell_type": "markdown",
   "metadata": {},
   "source": [
    "## Plotting"
   ]
  },
  {
   "cell_type": "code",
   "execution_count": null,
   "metadata": {},
   "outputs": [],
   "source": [
    "session_state = ndl.setFigureObjs(session_state)"
   ]
  },
  {
   "cell_type": "code",
   "execution_count": null,
   "metadata": {},
   "outputs": [],
   "source": [
    "NeiProFig = bpl.neighProfileDraw(session_state.spatial_umap, 3)"
   ]
  },
  {
   "cell_type": "code",
   "execution_count": null,
   "metadata": {},
   "outputs": [],
   "source": [
    "session_state = ndl.setFigureObjs_UMAP(session_state)"
   ]
  },
  {
   "cell_type": "code",
   "execution_count": null,
   "metadata": {},
   "outputs": [],
   "source": [
    "session_state.UMAPFigType = 'Density'\n",
    "session_state.lineageDisplayToggle == 'Phenotypes'\n",
    "\n",
    "session_state.umapInspect_Ver = 'All Phenotypes'\n",
    "session_state.umapInspect_Feat = 'NucArea'\n",
    "session_state.diffUMAPSel_Ver = 'All Phenotypes'\n",
    "session_state.diffUMAPSel_Feat = 'NucArea'\n",
    "\n",
    "session_state.inciOutcomeSel = 'HYPOXIC'\n",
    "session_state.inciPhenoSel = 'ECAD+'\n",
    "session_state = ndl.setFigureObjs_UMAPDifferences(session_state)"
   ]
  },
  {
   "cell_type": "code",
   "execution_count": null,
   "metadata": {},
   "outputs": [],
   "source": [
    "import matplotlib.pyplot as plt\n",
    "import pandas as pd\n",
    "import numpy as np\n",
    "\n",
    "dfUMAP = pd.DataFrame(data = session_state.spatial_umap.umap_test, columns = ['X', 'Y'])\n",
    "dfUMAP['Cluster'] = session_state.spatial_umap.cells['clust_label'].values[session_state.spatial_umap.cells['umap_test']]\n",
    "dfUMAP['Lineage'] = session_state.spatial_umap.cells['Lineage'].values[session_state.spatial_umap.cells['umap_test']]\n",
    "for outcome in session_state.outcomes:\n",
    "    dfUMAP[outcome] = session_state.spatial_umap.cells[outcome].values[session_state.spatial_umap.cells['umap_test']]\n",
    "clustOrder = sorted(dfUMAP['Cluster'].unique())\n",
    "\n",
    "n_bins = 200\n",
    "xx = np.linspace(np.min(dfUMAP['X']), np.max(dfUMAP['X']), n_bins + 1)\n",
    "yy = np.linspace(np.min(dfUMAP['Y']), np.max(dfUMAP['Y']), n_bins + 1)\n",
    "n_pad = 30\n",
    "\n",
    "minXY = dfUMAP[['X', 'Y']].min()-1\n",
    "maxXY = dfUMAP[['X', 'Y']].max()+1\n",
    "\n",
    "dfUMAPI = dfUMAP.copy()\n",
    "dfUMAPD = dfUMAP.copy()\n",
    "\n",
    "# Lineage filtering\n",
    "dfUMAPI = ndl.filterLineage4UMAP(session_state, dfUMAPI, session_state.defLineageOpt, session_state.umapInspect_Ver)\n",
    "dfUMAPD = ndl.filterLineage4UMAP(session_state, dfUMAPD, session_state.defLineageOpt, session_state.diffUMAPSel_Ver)\n",
    "\n",
    "# weights for inspection umap\n",
    "if session_state.umapInspect_Feat != session_state.defumapOutcomes:\n",
    "    w_Ins = dfUMAPI[session_state.umapInspect_Feat]\n",
    "    w_Ins, dfUMAPI = bpl.preprocess_weighted_umap(w_Ins, dfUMAPI)\n",
    "else:\n",
    "    w_Ins = None\n",
    "\n",
    "# weights for difference umap\n",
    "if session_state.diffUMAPSel_Feat != session_state.defumapOutcomes:\n",
    "    w = dfUMAPD[session_state.diffUMAPSel_Feat]\n",
    "    w, dfUMAPD = bpl.preprocess_weighted_umap(w, dfUMAPD)\n",
    "    w_DiffA = w\n",
    "    w_DiffB = max(w) - w\n",
    "    w_Diff  = w_DiffA - w_DiffB\n",
    "else:\n",
    "    w_DiffA = None\n",
    "    w_DiffB = None\n",
    "    w_Diff  = None\n"
   ]
  },
  {
   "cell_type": "code",
   "execution_count": null,
   "metadata": {},
   "outputs": [],
   "source": [
    "from scipy import ndimage as ndi\n",
    "gaussian_sigma=0.5\n",
    "bins=200\n",
    "w = w_Diff\n",
    "\n",
    "X = dfUMAPD['X']\n",
    "Y = dfUMAPD['Y']\n",
    "\n",
    "b, _, _ = np.histogram2d(X, Y, bins=bins)\n",
    "b = ndi.gaussian_filter(b.T, sigma=gaussian_sigma)\n",
    "\n",
    "s, _, _ = np.histogram2d(X, Y, bins=bins, weights=w)\n",
    "s = ndi.gaussian_filter(s.T, sigma=gaussian_sigma)\n",
    "\n",
    "d = np.zeros_like(b)\n",
    "# d[b > 0] = s[b > 0] / b[b > 0]\n",
    "d = s\n",
    "d = ndi.gaussian_filter(d, sigma=gaussian_sigma)\n",
    "\n",
    "print(np.quantile(d[d > 0].flatten(), 0.97))\n",
    "print(np.quantile(d[d < 0].flatten(), 0.03))"
   ]
  },
  {
   "cell_type": "code",
   "execution_count": null,
   "metadata": {},
   "outputs": [],
   "source": [
    "if session_state.diffUMAPSel_Feat in session_state.outcomes_nBOOL:\n",
    "    compThresh = 0\n",
    "    w_DiffA = np.array(w > compThresh).astype('int')\n",
    "    w_DiffB = max(w) - w\n",
    "else:\n",
    "    w_DiffA = w\n",
    "    w_DiffB = max(w) - w\n",
    "\n",
    "print(w_DiffA)"
   ]
  },
  {
   "cell_type": "markdown",
   "metadata": {},
   "source": [
    "# Import Libraries\n",
    "import sys\n",
    "sys.path.append('C:\\GitHub\\SpatialUMAP')\n",
    "\n",
    "# import plottingTools from Baras codebase\n",
    "import pickle\n",
    "import numpy as np\n",
    "import matplotlib.pyplot as plt\n",
    "from scipy import ndimage as ndi\n",
    "import PlottingTools as umPT\n",
    "\n",
    "# load spatial_umap object\n",
    "data_dir = r'C:\\DATA\\neighborhood-profiles'\n",
    "spatial_umap = pickle.load(open(data_dir + '/pkl/spatial_umap.pkl', 'rb'))"
   ]
  },
  {
   "cell_type": "code",
   "execution_count": null,
   "metadata": {},
   "outputs": [],
   "source": [
    "# Define a color palette for processes going forward\\n\",\n",
    "colorPalette = np.array([[131, 201, 255], [125, 239, 161], [109, 63, 192], [255, 171, 171],\\\n",
    "                         [0, 104, 201], [41, 176, 157], [213, 218, 229], [255, 43, 43],\\\n",
    "                         [232, 197, 77], [255, 209, 106], [131, 201, 255], [160, 120, 148], \\\n",
    "                         [178, 70, 181], [255, 135, 0], [0, 104, 0], [82, 166, 56],\\\n",
    "                         [166, 63, 152], [141, 166, 42], [130, 86, 133], [133, 54, 23],\\\n",
    "                         [9, 89, 133], [240, 135, 228], [240, 188, 176], [113, 32, 240],\\\n",
    "                         [57, 240, 223], [95, 166, 94], [94, 94, 65], [94, 51, 51],\\\n",
    "                         [50, 94, 32], [252, 226, 17]])/256\\\n",
    "# umPT.draw_cmp_swatches(colorPalette)\""
   ]
  },
  {
   "cell_type": "code",
   "execution_count": null,
   "metadata": {},
   "outputs": [],
   "source": [
    "# Define some labels for our phenotypes\n",
    "phenoLabel = np.sort(spatial_umap.cells['Lineage'].unique())[::-1]\n",
    "phenoColor = colorPalette\n",
    "\n",
    "# Create a dictionary of phenotypes and the colors to draw them as\n",
    "phenoSet = dict([(phenoLabel[x], phenoColor[x]) for x in range(len(phenoLabel))])"
   ]
  },
  {
   "cell_type": "code",
   "execution_count": null,
   "metadata": {},
   "outputs": [],
   "source": [
    "import matplotlib as mpl\n",
    "phenoLabel = np.sort(spatial_umap.cells['Lineage'].unique())[::-1]\n",
    "phenoColor = mpl.colormaps['tab20'].colors\n",
    "\n",
    "# Create a dictionary of phenotypes and the colors to draw them as\n",
    "spatial_umap.pheno_palette_dict = dict([(phenoLabel[x], phenoColor[x]) for x in range(len(phenoLabel))])"
   ]
  },
  {
   "cell_type": "code",
   "execution_count": null,
   "metadata": {},
   "outputs": [],
   "source": [
    "import pandas as pd\n",
    "pd.__version__"
   ]
  },
  {
   "attachments": {},
   "cell_type": "markdown",
   "metadata": {},
   "source": [
    "### Cellular Spatial Positions\n",
    "One of the first steps that will be useful is to have a view of the full cellular plate. Phenotypes can eventually be added, but for now, lets get a bird eye's view of the sample to confirm the shape of the cells."
   ]
  },
  {
   "cell_type": "code",
   "execution_count": null,
   "metadata": {},
   "outputs": [],
   "source": [
    "SpatPosFig = plt.figure(figsize = (7,7))\n",
    "ax = SpatPosFig.add_subplot(1,1,1)\n",
    "umPT.plot_spatial_elem(ax, \n",
    "                  elems = spatial_umap.cells, \n",
    "                  title=f'Spatial Cell Positions', \n",
    "                  color= spatial_umap.cells['Lineage'].map(phenoSet))\n",
    "\n",
    "SpatPosFig.savefig(data_dir + '/plots/SampleSpatialPos.png')"
   ]
  },
  {
   "cell_type": "code",
   "execution_count": null,
   "metadata": {},
   "outputs": [],
   "source": [
    "# umPT.plot_spatial_interactive(elems = spatial_umap.cells, title=f'Spatial Cell Positions', feature= 'Lineage')"
   ]
  },
  {
   "attachments": {},
   "cell_type": "markdown",
   "metadata": {},
   "source": [
    "### Neighborhood Profiles\n",
    "The core of this analysis is to show varying densities of the cell phenotypes surrounding any given cell. For this reason, we need a fairly robust method of drawing this feature repeatability and comparatively."
   ]
  },
  {
   "cell_type": "code",
   "execution_count": null,
   "metadata": {},
   "outputs": [],
   "source": [
    "NeiProFig = plt.figure(facecolor = SlBgC, figsize = (20, 15))\n",
    "NeiProFig.suptitle('Cell Densities', fontsize=55, color = SlTC)\n",
    "\n",
    "maxDens = spatial_umap.density.max().max() # This will be a good var to use when outliers are corrected for\n",
    "\n",
    "# Look at four (4) representative cells to get an idea of the neighborhood profiles.\n",
    "for count, j in enumerate([1, 24, 2456, 4500]):\n",
    "    density = spatial_umap.density[j, :, :]\n",
    "\n",
    "    ax = NeiProFig.add_subplot(2, 2, count+1)\n",
    "    if count+1 == 3:\n",
    "        legF = 1\n",
    "    else:\n",
    "        legF = 0\n",
    "\n",
    "    lineage = spatial_umap.cells.loc[j, \"Lineage\"]\n",
    "    umPT.plot_neighborhood_profile(ax, f'{j}\\n {lineage}', spatial_umap.dist_bin_um, density, phenoSet, 0.1, legF)\n",
    "NeiProFig.savefig(data_dir + '/plots/SampleNeighborhoodProfiles.png')"
   ]
  },
  {
   "cell_type": "code",
   "execution_count": null,
   "metadata": {},
   "outputs": [],
   "source": [
    "NeiPro_Proportion = plt.figure(facecolor = SlBgC, figsize = (20, 15))\n",
    "NeiPro_Proportion.suptitle('Cell Proportions', fontsize=55, color = SlTC)\n",
    "\n",
    "# Look at four (4) representative cells to get an idea of the neighborhood profiles.\n",
    "for count, j in enumerate([1, 24, 2456, 4500]):\n",
    "    propor = spatial_umap.proportion[j, :, :]\n",
    "\n",
    "    ax = NeiPro_Proportion.add_subplot(2, 2, count+1)\n",
    "    if count+1 == 4:\n",
    "        legF = 1\n",
    "    else:\n",
    "        legF = 0\n",
    "\n",
    "    lineage = spatial_umap.cells.loc[j, \"Lineage\"]\n",
    "    umPT.plot_neighborhood_profile_propor(ax, f'{j}\\n {lineage}', spatial_umap.dist_bin_um, propor, phenoSet, colorPalette, legF=legF)\n",
    "NeiPro_Proportion.savefig(data_dir + '/plots/SampleNeighborhoodProfiles_Proportions.png')"
   ]
  },
  {
   "attachments": {},
   "cell_type": "markdown",
   "metadata": {},
   "source": [
    "### Spatial UMAP\n",
    "Use a 2D histogram to display the heatmap of the 2-dimenstional UMAP features"
   ]
  },
  {
   "cell_type": "code",
   "execution_count": null,
   "metadata": {},
   "outputs": [],
   "source": [
    "# Spatial UMAP 2D Density Plots By Lineage and with PD-L1 and PD1 overlays\n",
    "# https://matplotlib.org/stable/tutorials/colors/colormaps.html\n",
    "\n",
    "# set meshgrid / bins for 2d plots based on UMAP x, y distributions\n",
    "n_bins = 200\n",
    "xx = np.linspace(np.min(spatial_umap.umap_test[:, 0]), np.max(spatial_umap.umap_test[:, 0]), n_bins + 1)\n",
    "yy = np.linspace(np.min(spatial_umap.umap_test[:, 1]), np.max(spatial_umap.umap_test[:, 1]), n_bins + 1)\n",
    "n_pad = 30\n",
    "\n",
    "# get figure and axes\n",
    "sUMAPFig, ax = plt.subplots(4, 5, figsize=(24, 20), facecolor='white')\n",
    "\n",
    "# color maps\n",
    "cmap_dens = plt.get_cmap('viridis').copy()\n",
    "cmap_dens.set_under('white')\n",
    "cmap_div = plt.get_cmap('coolwarm').copy()\n",
    "\n",
    "# plot cmaps\n",
    "umPT.plt_cmap(ax=ax[1, 4], cmap=cmap_dens, extend='max', width=0.01, ylabel='Density')\n",
    "umPT.plt_cmap(ax=ax[2, 4], cmap=cmap_div, extend='both', width=0.01, ylabel='Rel. Nucleus Ori')\n",
    "umPT.plt_cmap(ax=ax[3, 4], cmap=cmap_div, extend='both', width=0.01, ylabel='Nucleus Area')\n",
    "\n",
    "# clear unneeded axes\n",
    "[ax[_].set(visible=False) for _ in [(0, 0), (0, 1), (0, 3), (0, 4)]]\n",
    "\n",
    "# plot 2d denisty in umap of all cells\n",
    "umPT.plot_2d_density(spatial_umap.umap_test[:, 0], spatial_umap.umap_test[:, 1], bins=[xx, yy], n_pad=n_pad, ax=ax[0, 2], cmap=cmap_dens)\n",
    "ax[0, 2].set(title='All Cells')\n",
    "\n",
    "# set lineages to show and in what order\n",
    "lineages_plot = ['VIM', 'ECAD', 'COX2', 'NOS2']\n",
    "\n",
    "# Secondary Characteristics-Rel Orientation\n",
    "w = {'relOrientation': spatial_umap.cells['RelOrientation'].values}\n",
    "\n",
    "# Secondary Characteristics-Nuc Area\n",
    "w['NucArea'] = spatial_umap.cells['NucArea'].values\n",
    "\n",
    "for i in range(len(lineages_plot)):\n",
    "    # cells of lineage(s)\n",
    "    idx = spatial_umap.cells['Lineage'].str.contains(f'{lineages_plot[i]}\\+')\n",
    "    ax[1, i].cla()\n",
    "    ax[1, i].set(title=lineages_plot[i])\n",
    "\n",
    "    # plot density\n",
    "    umPT.plot_2d_density(spatial_umap.umap_test[idx, 0], spatial_umap.umap_test[idx, 1], bins=[xx, yy], ax=ax[1, i], cmap=cmap_dens, vlim=.95)\n",
    "\n",
    "    # plot Secondary Pheno 1\n",
    "    umPT.plot_2d_density(spatial_umap.umap_test[idx, 0], spatial_umap.umap_test[idx, 1], bins=[xx, yy], w=w['relOrientation'][idx], ax=ax[2, i],\n",
    "                    cmap=cmap_div, vlim=np.array([spatial_umap.cells['RelOrientation'].min(), spatial_umap.cells['RelOrientation'].max()]), circle_type='arch')\n",
    "    # plot Secondary Pheno 2\n",
    "    umPT.plot_2d_density(spatial_umap.umap_test[idx, 0], spatial_umap.umap_test[idx, 1], bins=[xx, yy], w=w['NucArea'][idx], ax=ax[3, i], \n",
    "                    cmap=cmap_div, vlim=np.array([spatial_umap.cells['NucArea'].min(), spatial_umap.cells['NucArea'].max()]), circle_type='arch')\n",
    "\n",
    "sUMAPFig.savefig(data_dir + '/plots/Sample-SpatialUMAP.png')"
   ]
  },
  {
   "attachments": {},
   "cell_type": "markdown",
   "metadata": {},
   "source": [
    "### Spatial Coord/UMAP"
   ]
  },
  {
   "cell_type": "code",
   "execution_count": null,
   "metadata": {},
   "outputs": [],
   "source": [
    "clust_set = np.sort(spatial_umap.cells['clust_label'].unique())\n",
    "color_set = dict([(clust_set[x], colorPalette[x]) for x in range(len(clust_set))])\n",
    "\n",
    "SpatPosClustFig = plt.figure(figsize = (7,7))\n",
    "ax = SpatPosClustFig.add_subplot(1,1,1)\n",
    "umPT.plot_spatial_elem(ax, \n",
    "                  elems = spatial_umap.cells, \n",
    "                  title=f'Spatial Cell Positions\\nWith Spatial-UMAP cluster Overlay', \n",
    "                  color=spatial_umap.cells['clust_label'].map(color_set))\n",
    "\n",
    "SpatPosClustFig.savefig(data_dir + '/plots/SampleSpatialPosUMAP.png')"
   ]
  },
  {
   "cell_type": "code",
   "execution_count": null,
   "metadata": {},
   "outputs": [],
   "source": [
    "# umPT.plot_spatial_interactive(elems = spatial_umap.cells, title=f'Spatial Cell Positions-UMAP Overlay', feature= 'clust_label')"
   ]
  },
  {
   "attachments": {},
   "cell_type": "markdown",
   "metadata": {},
   "source": [
    "### Meaned Measures (Density/Proportion)"
   ]
  },
  {
   "cell_type": "code",
   "execution_count": null,
   "metadata": {},
   "outputs": [],
   "source": [
    "# Max density value across all densities\n",
    "maxDens = spatial_umap.density.max().max() # This will be a good var to use when outliers are corrected for\n",
    "\n",
    "# Create figure and axes\n",
    "NeiProFigMean = plt.figure(figsize=(12,12), facecolor = SlBgC)\n",
    "ax = NeiProFigMean.add_subplot(1, 1, 1, facecolor = SlBgC)\n",
    "\n",
    "umPT.plot_mean_neighborhood_profile(ax, 10, spatial_umap.dist_bin_um, spatial_umap.densMeansDict, spatial_umap.pheno_palette_dict, 0.1, legF=1)"
   ]
  }
 ],
 "metadata": {
  "kernelspec": {
   "display_name": "Python 3",
   "language": "python",
   "name": "python3"
  },
  "language_info": {
   "codemirror_mode": {
    "name": "ipython",
    "version": 3
   },
   "file_extension": ".py",
   "mimetype": "text/x-python",
   "name": "python",
   "nbconvert_exporter": "python",
   "pygments_lexer": "ipython3",
   "version": "3.10.9"
  },
  "orig_nbformat": 4,
  "vscode": {
   "interpreter": {
    "hash": "52634da84371cba311ea128a5ea7cdc41ff074b781779e754b270ff9f8153cee"
   }
  }
 },
 "nbformat": 4,
 "nbformat_minor": 2
}
