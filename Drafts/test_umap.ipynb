{
 "cells": [
  {
   "cell_type": "code",
   "execution_count": 3,
   "metadata": {},
   "outputs": [],
   "source": [
    "import pandas as pd\n",
    "import umap\n",
    "\n",
    "df = pd.read_csv('~/seur_pcs.csv')\n",
    "\n"
   ]
  },
  {
   "cell_type": "code",
   "execution_count": 4,
   "metadata": {},
   "outputs": [
    {
     "name": "stderr",
     "output_type": "stream",
     "text": [
      "OMP: Info #276: omp_set_nested routine deprecated, please use omp_set_max_active_levels instead.\n"
     ]
    },
    {
     "name": "stdout",
     "output_type": "stream",
     "text": [
      "CPU times: user 1h 24min 27s, sys: 44min 38s, total: 2h 9min 6s\n",
      "Wall time: 42min 50s\n"
     ]
    }
   ],
   "source": [
    "%%time\n",
    "t_umap = umap.UMAP(n_jobs = 8).fit_transform(df)"
   ]
  },
  {
   "cell_type": "code",
   "execution_count": 5,
   "metadata": {},
   "outputs": [
    {
     "name": "stdout",
     "output_type": "stream",
     "text": [
      "CPU times: user 1h 21min 52s, sys: 41min 17s, total: 2h 3min 9s\n",
      "Wall time: 42min 11s\n"
     ]
    }
   ],
   "source": [
    "%%time\n",
    "f_umap = umap.UMAP(n_jobs = 8).fit(df)"
   ]
  }
 ],
 "metadata": {
  "kernelspec": {
   "display_name": "mawa-2024-02-08",
   "language": "python",
   "name": "python3"
  },
  "language_info": {
   "codemirror_mode": {
    "name": "ipython",
    "version": 3
   },
   "file_extension": ".py",
   "mimetype": "text/x-python",
   "name": "python",
   "nbconvert_exporter": "python",
   "pygments_lexer": "ipython3",
   "version": "3.11.9"
  }
 },
 "nbformat": 4,
 "nbformat_minor": 2
}
