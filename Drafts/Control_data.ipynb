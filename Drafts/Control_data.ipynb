{
 "cells": [
  {
   "cell_type": "code",
   "execution_count": 1,
   "metadata": {},
   "outputs": [],
   "source": [
    "import pandas as pd \n",
    "import scanpy as sc\n",
    "import phenograph\n",
    "import parc\n",
    "from utag import utag\n",
    "import os \n",
    "import numpy as np\n",
    "import time\n",
    "import anndata as ad\n",
    "\n",
    "#os.chdir(\"/home/abombin/Mawa/multiplex-analysis-web-apps\")\n",
    "os.chdir(\"/Users/bombina2/github/multiplex-analysis-web-apps\")"
   ]
  },
  {
   "cell_type": "code",
   "execution_count": 3,
   "metadata": {},
   "outputs": [
    {
     "name": "stdout",
     "output_type": "stream",
     "text": [
      "AnnData object with n_obs × n_vars = 71435 × 33\n",
      "    obs: 'sample', 'obj_id', 'X_centroid', 'Y_centroid', 'roi', 'Diseased State', 'Age', 'Patient', 'Image Location', 'cell type', 'slide', 'topological_domain', 'id', 'domain', 'UTAG Label_leiden_0.05', 'UTAG Label_leiden_0.1', 'UTAG Label_leiden_0.3', 'UTAG Label_leiden_0.5', 'UTAG Label'\n",
      "    uns: 'UTAG Label_colors', 'cell_type_colors', 'dendrogram_UTAG Label', 'dendrogram_UTAG Label_leiden_0.3', 'leiden', 'neighbors', 'pca', 'umap'\n",
      "    obsm: 'X_pca', 'X_umap', 'spatial'\n",
      "    varm: 'PCs'\n",
      "    obsp: 'connectivities', 'distances'\n",
      "CPU times: user 67.6 ms, sys: 10.2 ms, total: 77.9 ms\n",
      "Wall time: 76.9 ms\n"
     ]
    }
   ],
   "source": [
    "%%time\n",
    "adata = sc.read(\"input/healthy_lung_results_labeled.h5ad\")\n",
    "print(adata)\n"
   ]
  },
  {
   "cell_type": "code",
   "execution_count": 6,
   "metadata": {},
   "outputs": [
    {
     "data": {
      "text/plain": [
       "Index(['AQP1', 'aSMA', 'BTUBB4', 'CC16', 'CCL19', 'CD163', 'CD31', 'CD4',\n",
       "       'CD68', 'CD8A', 'CDKN2A', 'CHGA', 'ColTypeIV', 'CXCL10', 'DNA1', 'DNA2',\n",
       "       'EGFR', 'Ki67', 'KIT', 'KRT5', 'MUC5AC', 'MUC5B', 'S100A9', 'SCGB3A2',\n",
       "       'SERPINB3', 'SFTPB', 'SFTPC', 'SLPI', 'area', 'perimeter',\n",
       "       'major_axis_length', 'eccentricity', 'solidity'],\n",
       "      dtype='object')"
      ]
     },
     "execution_count": 6,
     "metadata": {},
     "output_type": "execute_result"
    }
   ],
   "source": [
    "meta = pd.DataFrame(adata.obs)\n",
    "gene_names = adata.var_names\n",
    "gene_names"
   ]
  },
  {
   "cell_type": "code",
   "execution_count": 7,
   "metadata": {},
   "outputs": [
    {
     "name": "stdout",
     "output_type": "stream",
     "text": [
      "AnnData object with n_obs × n_vars = 71946 × 33\n",
      "    obs: 'sample', 'obj_id', 'X_centroid', 'Y_centroid', 'roi', 'Diseased State', 'Age', 'Patient', 'Image Location', 'cell type', 'slide', 'topological_domain', 'id', 'domain', 'UTAG Label'\n",
      "    var: 'mean', 'std'\n",
      "    uns: 'UTAG Label_colors', 'cell type_colors', 'cell_type_colors', 'domain_colors', 'neighbors', 'pca', 'umap'\n",
      "    obsm: 'X_pca', 'X_umap', 'spatial'\n",
      "    varm: 'PCs'\n",
      "    obsp: 'connectivities', 'distances'\n",
      "CPU times: user 55.3 ms, sys: 20.3 ms, total: 75.5 ms\n",
      "Wall time: 82.8 ms\n"
     ]
    },
    {
     "data": {
      "text/plain": [
       "Index(['AQP1', 'aSMA', 'BTUBB4', 'CC16', 'CCL19', 'CD163', 'CD31', 'CD4',\n",
       "       'CD68', 'CD8A', 'CDKN2A', 'CHGA', 'ColTypeIV', 'CXCL10', 'DNA1', 'DNA2',\n",
       "       'EGFR', 'Ki67', 'KIT', 'KRT5', 'MUC5AC', 'MUC5B', 'S100A9', 'SCGB3A2',\n",
       "       'SERPINB3', 'SFTPB', 'SFTPC', 'SLPI', 'area', 'perimeter',\n",
       "       'major_axis_length', 'eccentricity', 'solidity'],\n",
       "      dtype='object')"
      ]
     },
     "execution_count": 7,
     "metadata": {},
     "output_type": "execute_result"
    }
   ],
   "source": [
    "%%time\n",
    "adata = sc.read(\"input/healthy_lung_adata.h5ad\")\n",
    "print(adata)\n",
    "meta = pd.DataFrame(adata.obs)\n",
    "gene_names = adata.var_names\n",
    "gene_names"
   ]
  }
 ],
 "metadata": {
  "kernelspec": {
   "display_name": "mawa-2024-02-08",
   "language": "python",
   "name": "python3"
  },
  "language_info": {
   "codemirror_mode": {
    "name": "ipython",
    "version": 3
   },
   "file_extension": ".py",
   "mimetype": "text/x-python",
   "name": "python",
   "nbconvert_exporter": "python",
   "pygments_lexer": "ipython3",
   "version": "3.11.9"
  }
 },
 "nbformat": 4,
 "nbformat_minor": 2
}
