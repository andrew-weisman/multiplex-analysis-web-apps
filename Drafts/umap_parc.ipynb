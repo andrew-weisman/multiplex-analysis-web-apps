{
 "cells": [
  {
   "cell_type": "code",
   "execution_count": 1,
   "metadata": {},
   "outputs": [
    {
     "name": "stderr",
     "output_type": "stream",
     "text": [
      "/Users/bombina2/miniconda3/envs/mawa-2024-02-08/lib/python3.11/site-packages/anndata/_core/aligned_df.py:67: ImplicitModificationWarning: Transforming to str index.\n",
      "  warnings.warn(\"Transforming to str index.\", ImplicitModificationWarning)\n"
     ]
    }
   ],
   "source": [
    "import os \n",
    "import numpy as np\n",
    "import time\n",
    "import anndata as ad\n",
    "import pandas as pd \n",
    "import scanpy as sc\n",
    "import parc\n",
    "import timeit\n",
    "\n",
    "os.chdir(\"/Users/bombina2/github/multiplex-analysis-web-apps\")\n",
    "\n",
    "df = pd.read_csv(\"input/measurementsthymus-exported.csv\")\n",
    "list(df.columns)\n",
    "meta = df.iloc[:, :4]\n",
    "list(meta.columns)\n",
    "mat = df.iloc[:, 4:]\n",
    "list(mat.columns)\n",
    "meta = meta.rename(columns={\"Image\": \"Image ID_(standardized)\", \n",
    "                            \"Centroid X µm\": \"Centroid X (µm)_(standardized)\", \n",
    "                            \"Centroid Y µm\": \"Centroid Y (µm)_(standardized)\"})\n",
    "\n",
    "adata = ad.AnnData(mat)\n",
    "adata.obs = meta"
   ]
  },
  {
   "cell_type": "code",
   "execution_count": 2,
   "metadata": {},
   "outputs": [
    {
     "name": "stderr",
     "output_type": "stream",
     "text": [
      "/Users/bombina2/miniconda3/envs/mawa-2024-02-08/lib/python3.11/site-packages/anndata/_core/aligned_df.py:67: ImplicitModificationWarning: Transforming to str index.\n",
      "  warnings.warn(\"Transforming to str index.\", ImplicitModificationWarning)\n"
     ]
    }
   ],
   "source": [
    "sc.pp.normalize_total(adata)\n",
    "sc.pp.log1p(adata)\n",
    "adata.raw = adata\n",
    "adata_beforeHVG =adata.copy()"
   ]
  },
  {
   "cell_type": "code",
   "execution_count": 3,
   "metadata": {},
   "outputs": [],
   "source": [
    "sc.pp.scale(adata, max_value=5)\n",
    "sc.tl.pca(adata, svd_solver='arpack', n_comps=10)"
   ]
  },
  {
   "cell_type": "code",
   "execution_count": 4,
   "metadata": {},
   "outputs": [
    {
     "name": "stdout",
     "output_type": "stream",
     "text": [
      "size of  output (1274717, 10) <class 'numpy.ndarray'>\n"
     ]
    }
   ],
   "source": [
    "res = adata.obsm['X_pca']\n",
    "print('size of  output', res.shape, type(res))"
   ]
  },
  {
   "cell_type": "code",
   "execution_count": 12,
   "metadata": {},
   "outputs": [
    {
     "name": "stdout",
     "output_type": "stream",
     "text": [
      "input data has shape 1274717 (samples) x 10 (features)\n",
      "knn struct was not available, so making one\n",
      "commencing global pruning\n",
      "commencing community detection\n",
      "partition type MVP\n",
      "list of cluster labels and populations 22 [(0, 128895), (1, 116190), (2, 115408), (3, 114353), (4, 92568), (5, 83784), (6, 75065), (7, 73722), (8, 67564), (9, 63446), (10, 58578), (11, 52044), (12, 45175), (13, 42862), (14, 41325), (15, 28292), (16, 24299), (17, 22422), (18, 19826), (19, 5202), (20, 3468), (21, 229)]\n",
      "time elapsed 306.2 seconds\n",
      "CPU times: user 8min 54s, sys: 14 s, total: 9min 8s\n",
      "Wall time: 5min 6s\n"
     ]
    }
   ],
   "source": [
    "%%time\n",
    "p = parc.PARC(res, random_seed=42, num_threads = 8)\n",
    "p.run_PARC()\n",
    "adata.obs['parc'] = [str(i) for i in p.labels]"
   ]
  },
  {
   "cell_type": "code",
   "execution_count": 11,
   "metadata": {},
   "outputs": [
    {
     "name": "stdout",
     "output_type": "stream",
     "text": [
      "input data has shape 1274717 (samples) x 10 (features)\n",
      "knn struct was not available, so making one\n",
      "commencing global pruning\n",
      "commencing community detection\n",
      "partition type MVP\n",
      "list of cluster labels and populations 61 [(0, 43544), (1, 39766), (2, 36064), (3, 35386), (4, 35258), (5, 34466), (6, 32335), (7, 32355), (8, 30992), (9, 30895), (10, 30292), (11, 30150), (12, 30281), (13, 28994), (14, 28333), (15, 28371), (16, 28185), (17, 27896), (18, 27289), (19, 26978), (20, 25878), (21, 24675), (22, 24449), (23, 24251), (24, 24347), (25, 23940), (26, 22753), (27, 21566), (28, 20997), (29, 20321), (30, 20163), (31, 19617), (32, 19622), (33, 18642), (34, 19178), (35, 18752), (36, 17999), (37, 18087), (38, 17757), (39, 16921), (40, 16296), (41, 16345), (42, 16093), (43, 15660), (44, 14584), (45, 14663), (46, 13356), (47, 12974), (48, 12834), (49, 12923), (50, 10618), (51, 10068), (52, 9729), (53, 9284), (54, 9094), (55, 7670), (56, 7508), (57, 5573), (58, 1411), (59, 226), (60, 63)]\n",
      "time elapsed 173.7 seconds\n",
      "CPU times: user 6min 47s, sys: 7.85 s, total: 6min 55s\n",
      "Wall time: 2min 53s\n"
     ]
    }
   ],
   "source": [
    "%%time\n",
    "parc1 = parc.PARC(adata.obsm['X_pca'], small_pop = 50, num_threads = 8, knn=10)\n",
    "parc1.run_PARC()"
   ]
  },
  {
   "cell_type": "code",
   "execution_count": 14,
   "metadata": {},
   "outputs": [
    {
     "name": "stdout",
     "output_type": "stream",
     "text": [
      "CPU times: user 32.9 s, sys: 1.29 s, total: 34.2 s\n",
      "Wall time: 7.92 s\n"
     ]
    }
   ],
   "source": [
    "%%time\n",
    "graph = p.knngraph_full()"
   ]
  },
  {
   "cell_type": "code",
   "execution_count": 17,
   "metadata": {},
   "outputs": [
    {
     "name": "stdout",
     "output_type": "stream",
     "text": [
      "a,b, spread, dist 1.5769434603113077 0.8950608779109733 1.0 0.1\n"
     ]
    },
    {
     "ename": "TypeError",
     "evalue": "simplicial_set_embedding() missing 3 required positional arguments: 'densmap', 'densmap_kwds', and 'output_dens'",
     "output_type": "error",
     "traceback": [
      "\u001b[0;31m---------------------------------------------------------------------------\u001b[0m",
      "\u001b[0;31mTypeError\u001b[0m                                 Traceback (most recent call last)",
      "File \u001b[0;32m<timed exec>:1\u001b[0m\n",
      "File \u001b[0;32m~/miniconda3/envs/mawa-2024-02-08/lib/python3.11/site-packages/parc/_parc.py:595\u001b[0m, in \u001b[0;36mPARC.run_umap_hnsw\u001b[0;34m(self, X_input, graph, n_components, alpha, negative_sample_rate, gamma, spread, min_dist, init_pos, random_state)\u001b[0m\n\u001b[1;32m    593\u001b[0m \u001b[38;5;28mprint\u001b[39m(\u001b[38;5;124m'\u001b[39m\u001b[38;5;124ma,b, spread, dist\u001b[39m\u001b[38;5;124m'\u001b[39m, a, b, spread, min_dist)\n\u001b[1;32m    594\u001b[0m t0 \u001b[38;5;241m=\u001b[39m time\u001b[38;5;241m.\u001b[39mtime()\n\u001b[0;32m--> 595\u001b[0m X_umap \u001b[38;5;241m=\u001b[39m \u001b[43msimplicial_set_embedding\u001b[49m\u001b[43m(\u001b[49m\u001b[43mdata\u001b[49m\u001b[38;5;241;43m=\u001b[39;49m\u001b[43mX_input\u001b[49m\u001b[43m,\u001b[49m\u001b[43m \u001b[49m\u001b[43mgraph\u001b[49m\u001b[38;5;241;43m=\u001b[39;49m\u001b[43mgraph\u001b[49m\u001b[43m,\u001b[49m\u001b[43m \u001b[49m\u001b[43mn_components\u001b[49m\u001b[38;5;241;43m=\u001b[39;49m\u001b[43mn_components\u001b[49m\u001b[43m,\u001b[49m\u001b[43m \u001b[49m\u001b[43minitial_alpha\u001b[49m\u001b[38;5;241;43m=\u001b[39;49m\u001b[43malpha\u001b[49m\u001b[43m,\u001b[49m\n\u001b[1;32m    596\u001b[0m \u001b[43m                                  \u001b[49m\u001b[43ma\u001b[49m\u001b[38;5;241;43m=\u001b[39;49m\u001b[43ma\u001b[49m\u001b[43m,\u001b[49m\u001b[43m \u001b[49m\u001b[43mb\u001b[49m\u001b[38;5;241;43m=\u001b[39;49m\u001b[43mb\u001b[49m\u001b[43m,\u001b[49m\u001b[43m \u001b[49m\u001b[43mn_epochs\u001b[49m\u001b[38;5;241;43m=\u001b[39;49m\u001b[38;5;241;43m0\u001b[39;49m\u001b[43m,\u001b[49m\u001b[43m \u001b[49m\u001b[43mmetric_kwds\u001b[49m\u001b[38;5;241;43m=\u001b[39;49m\u001b[43m{\u001b[49m\u001b[43m}\u001b[49m\u001b[43m,\u001b[49m\u001b[43m \u001b[49m\u001b[43mgamma\u001b[49m\u001b[38;5;241;43m=\u001b[39;49m\u001b[43mgamma\u001b[49m\u001b[43m,\u001b[49m\n\u001b[1;32m    597\u001b[0m \u001b[43m                                  \u001b[49m\u001b[43mnegative_sample_rate\u001b[49m\u001b[38;5;241;43m=\u001b[39;49m\u001b[43mnegative_sample_rate\u001b[49m\u001b[43m,\u001b[49m\u001b[43m \u001b[49m\u001b[43minit\u001b[49m\u001b[38;5;241;43m=\u001b[39;49m\u001b[43minit_pos\u001b[49m\u001b[43m,\u001b[49m\n\u001b[1;32m    598\u001b[0m \u001b[43m                                  \u001b[49m\u001b[43mrandom_state\u001b[49m\u001b[38;5;241;43m=\u001b[39;49m\u001b[43mnp\u001b[49m\u001b[38;5;241;43m.\u001b[39;49m\u001b[43mrandom\u001b[49m\u001b[38;5;241;43m.\u001b[39;49m\u001b[43mRandomState\u001b[49m\u001b[43m(\u001b[49m\u001b[43mrandom_state\u001b[49m\u001b[43m)\u001b[49m\u001b[43m,\u001b[49m\u001b[43m \u001b[49m\u001b[43mmetric\u001b[49m\u001b[38;5;241;43m=\u001b[39;49m\u001b[38;5;124;43m'\u001b[39;49m\u001b[38;5;124;43meuclidean\u001b[39;49m\u001b[38;5;124;43m'\u001b[39;49m\u001b[43m,\u001b[49m\n\u001b[1;32m    599\u001b[0m \u001b[43m                                  \u001b[49m\u001b[43mverbose\u001b[49m\u001b[38;5;241;43m=\u001b[39;49m\u001b[38;5;241;43m1\u001b[39;49m\u001b[43m)\u001b[49m\n\u001b[1;32m    600\u001b[0m \u001b[38;5;28;01mreturn\u001b[39;00m X_umap\n",
      "\u001b[0;31mTypeError\u001b[0m: simplicial_set_embedding() missing 3 required positional arguments: 'densmap', 'densmap_kwds', and 'output_dens'"
     ]
    }
   ],
   "source": [
    "%%time\n",
    "embedding= p.run_umap_hnsw(res, graph, random_state = 1)\n",
    "print('completed embedding')"
   ]
  },
  {
   "cell_type": "code",
   "execution_count": 19,
   "metadata": {},
   "outputs": [
    {
     "name": "stderr",
     "output_type": "stream",
     "text": [
      "OMP: Info #276: omp_set_nested routine deprecated, please use omp_set_max_active_levels instead.\n"
     ]
    }
   ],
   "source": [
    "%%time\n",
    "import umap\n",
    "knn_umap = umap.UMAP(n_jobs = 8).fit_transform(res)"
   ]
  },
  {
   "cell_type": "code",
   "execution_count": 6,
   "metadata": {},
   "outputs": [
    {
     "name": "stderr",
     "output_type": "stream",
     "text": [
      "OMP: Info #276: omp_set_nested routine deprecated, please use omp_set_max_active_levels instead.\n",
      "/Users/bombina2/miniconda3/envs/mawa-2024-02-08/lib/python3.11/site-packages/umap/umap_.py:2437: UserWarning: n_neighbors is larger than the dataset size; truncating to X.shape[0] - 1\n",
      "  warn(\n"
     ]
    },
    {
     "name": "stdout",
     "output_type": "stream",
     "text": [
      "CPU times: user 2.3 s, sys: 95.1 ms, total: 2.4 s\n",
      "Wall time: 2.38 s\n"
     ]
    }
   ],
   "source": [
    "%%time\n",
    "import umap\n",
    "res_1 = adata.obsm['X_pca'].T\n",
    "\n",
    "t_umap = umap.UMAP(n_jobs = 8).fit_transform(res_1)"
   ]
  },
  {
   "cell_type": "code",
   "execution_count": 7,
   "metadata": {},
   "outputs": [
    {
     "data": {
      "text/plain": [
       "array([[ 18.644636, -10.383589],\n",
       "       [ 17.833063,  -8.508753],\n",
       "       [ 17.579248, -10.41281 ],\n",
       "       [ 16.532759,  -9.930926],\n",
       "       [ 18.239628,  -9.478325],\n",
       "       [ 19.057205,  -9.379115],\n",
       "       [ 16.968237,  -8.94392 ],\n",
       "       [ 17.49615 ,  -9.595024],\n",
       "       [ 18.522205,  -8.685949],\n",
       "       [ 19.38408 , -10.420888]], dtype=float32)"
      ]
     },
     "execution_count": 7,
     "metadata": {},
     "output_type": "execute_result"
    }
   ],
   "source": [
    "t_umap"
   ]
  },
  {
   "cell_type": "code",
   "execution_count": null,
   "metadata": {},
   "outputs": [],
   "source": []
  }
 ],
 "metadata": {
  "kernelspec": {
   "display_name": "mawa-2024-02-08",
   "language": "python",
   "name": "python3"
  },
  "language_info": {
   "codemirror_mode": {
    "name": "ipython",
    "version": 3
   },
   "file_extension": ".py",
   "mimetype": "text/x-python",
   "name": "python",
   "nbconvert_exporter": "python",
   "pygments_lexer": "ipython3",
   "version": "3.11.9"
  }
 },
 "nbformat": 4,
 "nbformat_minor": 2
}
