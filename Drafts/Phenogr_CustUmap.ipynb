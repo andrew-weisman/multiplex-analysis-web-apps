{
 "cells": [
  {
   "cell_type": "code",
   "execution_count": 7,
   "metadata": {},
   "outputs": [
    {
     "name": "stdout",
     "output_type": "stream",
     "text": [
      "CPU times: user 208 µs, sys: 299 µs, total: 507 µs\n",
      "Wall time: 493 µs\n"
     ]
    }
   ],
   "source": [
    "%%time\n",
    "\n",
    "import pandas as pd \n",
    "import scanpy as sc\n",
    "import phenograph\n",
    "import parc\n",
    "from utag import utag\n",
    "import os \n",
    "import numpy as np\n",
    "import time\n",
    "import anndata as ad\n",
    "import scanpy.external as sce\n",
    "import igraph\n",
    "import umap\n",
    "#import rapids_singlecell as rsc\n",
    "#os.chdir(\"/home/abombin/Mawa/multiplex-analysis-web-apps\")\n",
    "os.chdir(\"/Users/bombina2/github/multiplex-analysis-web-apps\")"
   ]
  },
  {
   "cell_type": "code",
   "execution_count": 2,
   "metadata": {},
   "outputs": [
    {
     "name": "stderr",
     "output_type": "stream",
     "text": [
      "/Users/bombina2/miniconda3/envs/mawa-2024-02-08/lib/python3.11/site-packages/anndata/_core/aligned_df.py:67: ImplicitModificationWarning: Transforming to str index.\n",
      "  warnings.warn(\"Transforming to str index.\", ImplicitModificationWarning)\n"
     ]
    }
   ],
   "source": [
    "# test with more than a million cells \n",
    "df = pd.read_csv(\"input/measurementsthymus-exported.csv\")\n",
    "list(df.columns)\n",
    "meta = df.iloc[:, :4]\n",
    "list(meta.columns)\n",
    "mat = df.iloc[:, 4:]\n",
    "list(mat.columns)\n",
    "meta = meta.rename(columns={\"Image\": \"Image ID_(standardized)\", \n",
    "                            \"Centroid X µm\": \"Centroid X (µm)_(standardized)\", \n",
    "                            \"Centroid Y µm\": \"Centroid Y (µm)_(standardized)\"})\n",
    "\n",
    "adata = ad.AnnData(mat)\n",
    "adata.obs = meta\n",
    "adata.layers[\"counts\"] = adata.X.copy()"
   ]
  },
  {
   "cell_type": "code",
   "execution_count": 4,
   "metadata": {},
   "outputs": [
    {
     "name": "stdout",
     "output_type": "stream",
     "text": [
      "Finding 30 nearest neighbors using minkowski metric and 'auto' algorithm\n",
      "Neighbors computed in 1390.8548481464386 seconds\n",
      "Jaccard graph constructed in 45.790358781814575 seconds\n",
      "Sorting communities by size, please wait ...\n",
      "PhenoGraph completed in 1441.4985039234161 seconds\n",
      "CPU times: user 3h 53min 13s, sys: 52.4 s, total: 3h 54min 5s\n",
      "Wall time: 24min 1s\n"
     ]
    }
   ],
   "source": [
    "%%time\n",
    "\n",
    "communities, graph, Q = phenograph.cluster(adata.X, clustering_algo=\"louvian\", k=30, \n",
    "                                               min_cluster_size=10, primary_metric=\"euclidean\", \n",
    "                                               resolution_parameter=1, nn_method=\"kdtree\",\n",
    "                                               seed=42, n_iterations=-1, n_jobs=8)"
   ]
  },
  {
   "cell_type": "code",
   "execution_count": 8,
   "metadata": {},
   "outputs": [
    {
     "name": "stderr",
     "output_type": "stream",
     "text": [
      "OMP: Info #276: omp_set_nested routine deprecated, please use omp_set_max_active_levels instead.\n"
     ]
    },
    {
     "name": "stdout",
     "output_type": "stream",
     "text": [
      "<class 'tuple'>\n",
      "<class 'scipy.sparse._coo.coo_matrix'>\n",
      "1274717\n",
      "CPU times: user 6min 3s, sys: 45.2 s, total: 6min 48s\n",
      "Wall time: 52.1 s\n"
     ]
    }
   ],
   "source": [
    "%%time\n",
    "from umap.umap_ import nearest_neighbors\n",
    "knn = nearest_neighbors(\n",
    "                        adata.X,\n",
    "                        n_neighbors=30,\n",
    "                        metric='euclidean',\n",
    "                        metric_kwds=None,\n",
    "                        angular=False,\n",
    "                        random_state=42\n",
    "                        )\n",
    "\n",
    "print(type(knn))\n",
    "print(type(graph))\n",
    "\n",
    "print(graph.shape[0])"
   ]
  },
  {
   "cell_type": "code",
   "execution_count": 10,
   "metadata": {},
   "outputs": [
    {
     "name": "stdout",
     "output_type": "stream",
     "text": [
      "(array([[      0,  870454,  161687, ...,  823722,   70499, 1107751],\n",
      "       [      1,  603860,  601532, ...,  599847,  708798,  627706],\n",
      "       [      2,   51771,  114050, ...,   62665,  319346,  261303],\n",
      "       ...,\n",
      "       [1274714, 1256833, 1273886, ...,  800905, 1249710, 1208227],\n",
      "       [1274715, 1144173, 1251631, ...,  824023, 1271406, 1272150],\n",
      "       [1274716, 1270200, 1251602, ..., 1207161, 1235460, 1241907]],\n",
      "      dtype=int32), array([[ 0.      ,  9.505828, 10.602911, ..., 16.146563, 16.20209 ,\n",
      "        16.390078],\n",
      "       [ 0.      ,  8.727126,  8.901722, ..., 14.934456, 14.959417,\n",
      "        15.012582],\n",
      "       [ 0.      , 12.76424 , 14.644696, ..., 18.202799, 18.207096,\n",
      "        18.32605 ],\n",
      "       ...,\n",
      "       [ 0.      , 38.888424, 39.50979 , ..., 52.573048, 53.151474,\n",
      "        53.485657],\n",
      "       [ 0.      , 33.1403  , 35.014458, ..., 52.587578, 52.62852 ,\n",
      "        53.233257],\n",
      "       [ 0.      , 38.68063 , 40.75001 , ..., 53.543903, 53.575253,\n",
      "        53.93062 ]], dtype=float32), <pynndescent.pynndescent_.NNDescent object at 0x1e0e28650>)\n",
      "  (83, 32)\t0.02631578947368421\n",
      "  (122, 30)\t0.1\n",
      "  (125, 100)\t0.045454545454545456\n",
      "  (153, 29)\t0.017241379310344827\n",
      "  (177, 169)\t0.03571428571428571\n",
      "  (196, 102)\t0.00847457627118644\n",
      "  (221, 13)\t0.07692307692307693\n",
      "  (240, 218)\t0.2\n",
      "  (246, 129)\t0.30434782608695654\n",
      "  (262, 141)\t0.045454545454545456\n",
      "  (263, 134)\t0.07142857142857142\n",
      "  (269, 263)\t0.03571428571428571\n",
      "  (283, 259)\t0.1320754716981132\n",
      "  (294, 30)\t0.017241379310344827\n",
      "  (294, 149)\t0.15384615384615385\n",
      "  (299, 142)\t0.00847457627118644\n",
      "  (305, 30)\t0.017241379310344827\n",
      "  (305, 294)\t0.03571428571428571\n",
      "  (351, 345)\t0.00847457627118644\n",
      "  (353, 194)\t0.25\n",
      "  (359, 43)\t0.09090909090909091\n",
      "  (365, 305)\t0.045454545454545456\n",
      "  (369, 360)\t0.0660377358490566\n",
      "  (370, 342)\t0.05263157894736842\n",
      "  (371, 13)\t0.017241379310344827\n",
      "  :\t:\n",
      "  (1274716, 1174539)\t0.05555555555555555\n",
      "  (1274716, 1175101)\t0.03571428571428571\n",
      "  (1274716, 1176278)\t0.03571428571428571\n",
      "  (1274716, 1176412)\t0.05555555555555555\n",
      "  (1274716, 1178054)\t0.15384615384615385\n",
      "  (1274716, 1178206)\t0.22448979591836735\n",
      "  (1274716, 1180300)\t0.03571428571428571\n",
      "  (1274716, 1196012)\t0.02631578947368421\n",
      "  (1274716, 1207161)\t0.017241379310344827\n",
      "  (1274716, 1208144)\t0.15384615384615385\n",
      "  (1274716, 1217891)\t0.05555555555555555\n",
      "  (1274716, 1235460)\t0.05555555555555555\n",
      "  (1274716, 1238912)\t0.017241379310344827\n",
      "  (1274716, 1241907)\t0.07692307692307693\n",
      "  (1274716, 1243202)\t0.1111111111111111\n",
      "  (1274716, 1248777)\t0.03571428571428571\n",
      "  (1274716, 1248778)\t0.09090909090909091\n",
      "  (1274716, 1251602)\t0.2\n",
      "  (1274716, 1260347)\t0.00847457627118644\n",
      "  (1274716, 1262097)\t0.2\n",
      "  (1274716, 1270188)\t0.02631578947368421\n",
      "  (1274716, 1270200)\t0.2\n",
      "  (1274716, 1270288)\t0.08823529411764706\n",
      "  (1274716, 1273876)\t0.15384615384615385\n",
      "  (1274716, 1274374)\t0.17647058823529413\n"
     ]
    }
   ],
   "source": [
    "print(knn)\n",
    "print(graph)"
   ]
  },
  {
   "cell_type": "code",
   "execution_count": 11,
   "metadata": {},
   "outputs": [],
   "source": [
    "import numpy as np\n",
    "from scipy.sparse import csr_matrix\n",
    " \n",
    "def reformat_graph(graph, n_neighbors):\n",
    "    # Convert the sparse matrix to the COO format\n",
    "    graph_coo = graph.tocoo()\n",
    " \n",
    "    # Initialize arrays for the indices and distances\n",
    "    knn_indices = np.empty((graph.shape[0], n_neighbors), dtype=int)\n",
    "    knn_dists = np.empty((graph.shape[0], n_neighbors))\n",
    " \n",
    "    # Fill the arrays\n",
    "    for i, (row, data) in enumerate(zip(graph_coo.row, graph_coo.data)):\n",
    "        knn_indices[row, :] = graph_coo.col[i]\n",
    "        knn_dists[row, :] = data\n",
    " \n",
    "    return knn_indices, knn_dists\n",
    " \n",
    "# Use the function\n",
    "knn_indices, knn_dists = reformat_graph(graph=graph, n_neighbors=30)\n",
    "precomputed_knn = (knn_indices, knn_dists)"
   ]
  },
  {
   "cell_type": "code",
   "execution_count": 12,
   "metadata": {},
   "outputs": [
    {
     "name": "stdout",
     "output_type": "stream",
     "text": [
      "(array([[      0,       0,       0, ...,       0,       0,       0],\n",
      "       [      0,       0,       0, ...,       0,       0,       0],\n",
      "       [      0,       0,       0, ...,       0,       0,       0],\n",
      "       ...,\n",
      "       [1273886, 1273886, 1273886, ..., 1273886, 1273886, 1273886],\n",
      "       [1274225, 1274225, 1274225, ..., 1274225, 1274225, 1274225],\n",
      "       [1274374, 1274374, 1274374, ..., 1274374, 1274374, 1274374]]), array([[0.        , 0.        , 0.        , ..., 0.        , 0.        ,\n",
      "        0.        ],\n",
      "       [0.        , 0.        , 0.        , ..., 0.        , 0.        ,\n",
      "        0.        ],\n",
      "       [0.        , 0.        , 0.        , ..., 0.        , 0.        ,\n",
      "        0.        ],\n",
      "       ...,\n",
      "       [0.07142857, 0.07142857, 0.07142857, ..., 0.07142857, 0.07142857,\n",
      "        0.07142857],\n",
      "       [0.07692308, 0.07692308, 0.07692308, ..., 0.07692308, 0.07692308,\n",
      "        0.07692308],\n",
      "       [0.17647059, 0.17647059, 0.17647059, ..., 0.17647059, 0.17647059,\n",
      "        0.17647059]]))\n"
     ]
    }
   ],
   "source": [
    "print(precomputed_knn)"
   ]
  },
  {
   "cell_type": "code",
   "execution_count": null,
   "metadata": {},
   "outputs": [],
   "source": []
  },
  {
   "cell_type": "code",
   "execution_count": 28,
   "metadata": {},
   "outputs": [],
   "source": [
    "graph_matrix = graph.tocoo\n",
    "X_df = ad.AnnData.to_df(adata)\n",
    "\n",
    "print(len(adata.X))\n",
    "print(len(graph_matrix))"
   ]
  },
  {
   "cell_type": "code",
   "execution_count": 14,
   "metadata": {},
   "outputs": [
    {
     "name": "stdout",
     "output_type": "stream",
     "text": [
      "CPU times: user 1h 53min 26s, sys: 1h 5min 39s, total: 2h 59min 6s\n",
      "Wall time: 1h 2min 58s\n"
     ]
    }
   ],
   "source": [
    "%%time\n",
    "knn_umap = umap.UMAP(n_neighbors = 30, n_components=2, metric='euclidean', \n",
    "                     n_jobs = 8, precomputed_knn = knn).fit_transform(adata.X)"
   ]
  },
  {
   "cell_type": "code",
   "execution_count": 15,
   "metadata": {},
   "outputs": [
    {
     "ename": "AttributeError",
     "evalue": "'coo_matrix' object has no attribute 'distances'",
     "output_type": "error",
     "traceback": [
      "\u001b[0;31m---------------------------------------------------------------------------\u001b[0m",
      "\u001b[0;31mAttributeError\u001b[0m                            Traceback (most recent call last)",
      "Cell \u001b[0;32mIn[15], line 24\u001b[0m\n\u001b[1;32m     22\u001b[0m \u001b[38;5;66;03m# Get the kNN indices and distances from the Phenograph graph\u001b[39;00m\n\u001b[1;32m     23\u001b[0m n_neighbors \u001b[38;5;241m=\u001b[39m \u001b[38;5;241m30\u001b[39m\n\u001b[0;32m---> 24\u001b[0m knn_indices, knn_dists \u001b[38;5;241m=\u001b[39m \u001b[43mreformat_phenograph_graph\u001b[49m\u001b[43m(\u001b[49m\u001b[43mgraph\u001b[49m\u001b[43m,\u001b[49m\u001b[43m \u001b[49m\u001b[43mn_neighbors\u001b[49m\u001b[43m)\u001b[49m\n\u001b[1;32m     25\u001b[0m precomputed_knn_1 \u001b[38;5;241m=\u001b[39m (knn_indices, knn_dists)\n\u001b[1;32m     26\u001b[0m \u001b[38;5;28mprint\u001b[39m(precomputed_knn_1) \n",
      "Cell \u001b[0;32mIn[15], line 10\u001b[0m, in \u001b[0;36mreformat_phenograph_graph\u001b[0;34m(graph, n_neighbors)\u001b[0m\n\u001b[1;32m      9\u001b[0m \u001b[38;5;28;01mdef\u001b[39;00m \u001b[38;5;21mreformat_phenograph_graph\u001b[39m(graph, n_neighbors):\n\u001b[0;32m---> 10\u001b[0m     N \u001b[38;5;241m=\u001b[39m \u001b[43mgraph\u001b[49m\u001b[38;5;241;43m.\u001b[39;49m\u001b[43mdistances\u001b[49m\u001b[38;5;241m.\u001b[39mshape[\u001b[38;5;241m0\u001b[39m]\n\u001b[1;32m     11\u001b[0m     knn_indices \u001b[38;5;241m=\u001b[39m np\u001b[38;5;241m.\u001b[39mzeros((N, n_neighbors), dtype\u001b[38;5;241m=\u001b[39m\u001b[38;5;28mint\u001b[39m)\n\u001b[1;32m     12\u001b[0m     knn_dists \u001b[38;5;241m=\u001b[39m np\u001b[38;5;241m.\u001b[39mzeros((N, n_neighbors))\n",
      "\u001b[0;31mAttributeError\u001b[0m: 'coo_matrix' object has no attribute 'distances'"
     ]
    }
   ],
   "source": [
    "import scanpy as sc\n",
    "import phenograph\n",
    "import numpy as np\n",
    "from sklearn.preprocessing import normalize\n",
    "from umap import UMAP\n",
    " \n",
    "\n",
    "# Reformat the Phenograph graph to a kNN representation\n",
    "def reformat_phenograph_graph(graph, n_neighbors):\n",
    "    N = graph.distances.shape[0]\n",
    "    knn_indices = np.zeros((N, n_neighbors), dtype=int)\n",
    "    knn_dists = np.zeros((N, n_neighbors))\n",
    " \n",
    "    for i in range(N):\n",
    "        neighbors = sorted(zip(graph.distances[i], graph.transitions[i]), key=lambda x: x[0])[:n_neighbors]\n",
    "        neighbor_indices, neighbor_dists = zip(*neighbors)\n",
    "        knn_indices[i] = neighbor_indices\n",
    "        knn_dists[i] = neighbor_dists\n",
    " \n",
    "    return knn_indices, knn_dists\n",
    " \n",
    "# Get the kNN indices and distances from the Phenograph graph\n",
    "n_neighbors = 30\n",
    "knn_indices, knn_dists = reformat_phenograph_graph(graph, n_neighbors)\n",
    "precomputed_knn_1 = (knn_indices, knn_dists)\n",
    "print(precomputed_knn_1) \n"
   ]
  },
  {
   "cell_type": "code",
   "execution_count": 3,
   "metadata": {},
   "outputs": [
    {
     "name": "stderr",
     "output_type": "stream",
     "text": [
      "OMP: Info #276: omp_set_nested routine deprecated, please use omp_set_max_active_levels instead.\n"
     ]
    },
    {
     "name": "stdout",
     "output_type": "stream",
     "text": [
      "CPU times: user 1h 58min 30s, sys: 1h 4min 18s, total: 3h 2min 49s\n",
      "Wall time: 54min 58s\n"
     ]
    }
   ],
   "source": [
    "%%time\n",
    "cur_umap = umap.UMAP(n_neighbors = 30, n_components=2, \n",
    "                     n_jobs = 8).fit_transform(adata.X)"
   ]
  },
  {
   "cell_type": "code",
   "execution_count": 11,
   "metadata": {},
   "outputs": [
    {
     "name": "stderr",
     "output_type": "stream",
     "text": [
      "/Users/bombina2/miniconda3/envs/mawa-2024-02-08/lib/python3.11/site-packages/anndata/_core/aligned_df.py:67: ImplicitModificationWarning: Transforming to str index.\n",
      "  warnings.warn(\"Transforming to str index.\", ImplicitModificationWarning)\n"
     ]
    },
    {
     "name": "stdout",
     "output_type": "stream",
     "text": [
      "CPU times: user 7.26 s, sys: 6.17 s, total: 13.4 s\n",
      "Wall time: 3.84 s\n"
     ]
    }
   ],
   "source": [
    "%%time\n",
    "# test with more than a million cells \n",
    "df = pd.read_csv(\"input/measurementsthymus-exported.csv\")\n",
    "list(df.columns)\n",
    "meta = df.iloc[:, :4]\n",
    "list(meta.columns)\n",
    "mat = df.iloc[:, 4:]\n",
    "list(mat.columns)\n",
    "meta = meta.rename(columns={\"Image\": \"Image ID_(standardized)\", \n",
    "                            \"Centroid X µm\": \"Centroid X (µm)_(standardized)\", \n",
    "                            \"Centroid Y µm\": \"Centroid Y (µm)_(standardized)\"})\n",
    "\n",
    "adata = ad.AnnData(mat)\n",
    "adata.obs = meta\n",
    "#adata.raw = adata\n",
    "adata.layers[\"counts\"] = adata.X.copy()\n",
    "\n",
    "sc.pp.normalize_total(adata)\n",
    "sc.pp.log1p(adata)\n",
    "sc.tl.pca(adata, n_comps=10)"
   ]
  },
  {
   "cell_type": "code",
   "execution_count": 14,
   "metadata": {},
   "outputs": [
    {
     "name": "stdout",
     "output_type": "stream",
     "text": [
      "CPU times: user 4min 19s, sys: 6.43 s, total: 4min 26s\n",
      "Wall time: 4min 24s\n"
     ]
    }
   ],
   "source": [
    "%%time\n",
    "sc.pp.neighbors(adata, n_neighbors=30, metric=\"euclidean\", n_pcs=0)"
   ]
  },
  {
   "cell_type": "code",
   "execution_count": null,
   "metadata": {},
   "outputs": [],
   "source": [
    "%%time\n",
    "sc.pp.neighbors(adata, n_neighbors=30, metric=\"euclidean\", n_pcs=10)"
   ]
  },
  {
   "cell_type": "code",
   "execution_count": 3,
   "metadata": {},
   "outputs": [
    {
     "name": "stderr",
     "output_type": "stream",
     "text": [
      "OMP: Info #276: omp_set_nested routine deprecated, please use omp_set_max_active_levels instead.\n"
     ]
    },
    {
     "name": "stdout",
     "output_type": "stream",
     "text": [
      "CPU times: user 1h 58min 18s, sys: 1h 5min 7s, total: 3h 3min 25s\n",
      "Wall time: 55min 26s\n"
     ]
    }
   ],
   "source": [
    "%%time\n",
    "import umap\n",
    "cur_umap_pca = umap.UMAP(n_neighbors=30, n_components=2, n_jobs=8).fit_transform(adata.obsm['X_pca'])"
   ]
  },
  {
   "cell_type": "code",
   "execution_count": 4,
   "metadata": {},
   "outputs": [
    {
     "name": "stdout",
     "output_type": "stream",
     "text": [
      "CPU times: user 1h 59min 17s, sys: 1h 6min 2s, total: 3h 5min 20s\n",
      "Wall time: 58min 5s\n"
     ]
    }
   ],
   "source": [
    "%%time\n",
    "cur_umap = umap.UMAP(n_neighbors = 30, n_components=2, \n",
    "                     n_jobs = 8).fit_transform(adata.X)"
   ]
  },
  {
   "cell_type": "code",
   "execution_count": 6,
   "metadata": {},
   "outputs": [
    {
     "name": "stdout",
     "output_type": "stream",
     "text": [
      "Finding 30 nearest neighbors using minkowski metric and 'auto' algorithm\n",
      "Neighbors computed in 296.0105941295624 seconds\n",
      "Jaccard graph constructed in 46.47930908203125 seconds\n",
      "Sorting communities by size, please wait ...\n",
      "PhenoGraph completed in 347.2421510219574 seconds\n",
      "CPU times: user 37min 7s, sys: 17.4 s, total: 37min 24s\n",
      "Wall time: 5min 47s\n"
     ]
    }
   ],
   "source": [
    "%%time\n",
    "\n",
    "communities, graph, Q = phenograph.cluster(adata.obsm['X_pca'], clustering_algo=\"louvian\", k=30, \n",
    "                                               min_cluster_size=10, primary_metric=\"euclidean\", \n",
    "                                               resolution_parameter=1, nn_method=\"kdtree\",\n",
    "                                               seed=42, n_iterations=-1, n_jobs=8)"
   ]
  },
  {
   "cell_type": "code",
   "execution_count": 3,
   "metadata": {},
   "outputs": [
    {
     "name": "stderr",
     "output_type": "stream",
     "text": [
      "/Users/bombina2/miniconda3/envs/mawa-2024-02-08/lib/python3.11/site-packages/anndata/_core/aligned_df.py:67: ImplicitModificationWarning: Transforming to str index.\n",
      "  warnings.warn(\"Transforming to str index.\", ImplicitModificationWarning)\n"
     ]
    },
    {
     "name": "stdout",
     "output_type": "stream",
     "text": [
      "CPU times: user 7.65 s, sys: 7.34 s, total: 15 s\n",
      "Wall time: 4.14 s\n"
     ]
    }
   ],
   "source": [
    "%%time\n",
    "from sklearn.preprocessing import StandardScaler\n",
    "# test with more than a million cells \n",
    "df = pd.read_csv(\"input/measurementsthymus-exported.csv\")\n",
    "list(df.columns)\n",
    "meta = df.iloc[:, :4]\n",
    "list(meta.columns)\n",
    "mat = df.iloc[:, 4:]\n",
    "list(mat.columns)\n",
    "meta = meta.rename(columns={\"Image\": \"Image ID_(standardized)\", \n",
    "                            \"Centroid X µm\": \"Centroid X (µm)_(standardized)\", \n",
    "                            \"Centroid Y µm\": \"Centroid Y (µm)_(standardized)\"})\n",
    "\n",
    "adata = ad.AnnData(mat)\n",
    "adata.obs = meta\n",
    "#adata.raw = adata\n",
    "adata.layers[\"counts\"] = adata.X.copy()\n",
    "\n",
    "sc.pp.normalize_total(adata)\n",
    "sc.pp.log1p(adata)\n",
    "sc.tl.pca(adata, n_comps=10)\n",
    "\n",
    "scaled_data = StandardScaler().fit_transform(adata.X)"
   ]
  },
  {
   "cell_type": "code",
   "execution_count": 4,
   "metadata": {},
   "outputs": [
    {
     "name": "stderr",
     "output_type": "stream",
     "text": [
      "OMP: Info #276: omp_set_nested routine deprecated, please use omp_set_max_active_levels instead.\n"
     ]
    },
    {
     "name": "stdout",
     "output_type": "stream",
     "text": [
      "CPU times: user 2h 52s, sys: 1h 9min 33s, total: 3h 10min 25s\n",
      "Wall time: 57min 31s\n"
     ]
    }
   ],
   "source": [
    "%%time\n",
    "cur_umap = umap.UMAP(n_neighbors = 30, n_components=2, \n",
    "                     n_jobs = 8).fit_transform(scaled_data)"
   ]
  },
  {
   "cell_type": "code",
   "execution_count": 8,
   "metadata": {},
   "outputs": [
    {
     "name": "stderr",
     "output_type": "stream",
     "text": [
      "/Users/bombina2/miniconda3/envs/mawa-2024-02-08/lib/python3.11/site-packages/anndata/_core/aligned_df.py:67: ImplicitModificationWarning: Transforming to str index.\n",
      "  warnings.warn(\"Transforming to str index.\", ImplicitModificationWarning)\n"
     ]
    },
    {
     "name": "stdout",
     "output_type": "stream",
     "text": [
      "CPU times: user 6.74 s, sys: 6.59 s, total: 13.3 s\n",
      "Wall time: 4.04 s\n"
     ]
    }
   ],
   "source": [
    "%%time\n",
    "from sklearn.preprocessing import StandardScaler\n",
    "# test with more than a million cells \n",
    "df = pd.read_csv(\"input/measurementsthymus-exported.csv\")\n",
    "list(df.columns)\n",
    "meta = df.iloc[:, :4]\n",
    "list(meta.columns)\n",
    "mat = df.iloc[:, 4:]\n",
    "list(mat.columns)\n",
    "meta = meta.rename(columns={\"Image\": \"Image ID_(standardized)\", \n",
    "                            \"Centroid X µm\": \"Centroid X (µm)_(standardized)\", \n",
    "                            \"Centroid Y µm\": \"Centroid Y (µm)_(standardized)\"})\n",
    "\n",
    "adata = ad.AnnData(mat)\n",
    "adata.obs = meta\n",
    "#adata.raw = adata\n",
    "adata.layers[\"counts\"] = adata.X.copy()\n",
    "\n",
    "#sc.pp.normalize_total(adata)\n",
    "sc.pp.log1p(adata)\n",
    "sc.pp.scale(adata, max_value=10)\n",
    "sc.tl.pca(adata, n_comps=10)"
   ]
  },
  {
   "cell_type": "code",
   "execution_count": 3,
   "metadata": {},
   "outputs": [
    {
     "name": "stderr",
     "output_type": "stream",
     "text": [
      "OMP: Info #276: omp_set_nested routine deprecated, please use omp_set_max_active_levels instead.\n"
     ]
    },
    {
     "name": "stdout",
     "output_type": "stream",
     "text": [
      "CPU times: user 1h 58min 10s, sys: 1h 7min 4s, total: 3h 5min 14s\n",
      "Wall time: 55min 57s\n"
     ]
    }
   ],
   "source": [
    "%%time\n",
    "import umap\n",
    "cur_umap_pca = umap.UMAP(n_neighbors=30, n_components=2, n_jobs=8).fit_transform(adata.obsm['X_pca'])"
   ]
  },
  {
   "cell_type": "code",
   "execution_count": 9,
   "metadata": {},
   "outputs": [
    {
     "name": "stdout",
     "output_type": "stream",
     "text": [
      "CPU times: user 2h 56min 36s, sys: 1h 2min 10s, total: 3h 58min 47s\n",
      "Wall time: 1h 8min 52s\n"
     ]
    }
   ],
   "source": [
    "%%time\n",
    "import umap\n",
    "cur_umap_pca_cos = umap.UMAP(n_neighbors=30, n_components=2, n_jobs=8, metric=\"cosine\").fit_transform(adata.obsm['X_pca'])"
   ]
  },
  {
   "cell_type": "code",
   "execution_count": 4,
   "metadata": {},
   "outputs": [],
   "source": [
    "from sklearn.preprocessing import MinMaxScaler\n",
    "\n",
    "scaler = MinMaxScaler(feature_range=(0, 1))\n",
    "data_scaled = scaler.fit_transform(adata.obsm['X_pca'])\n"
   ]
  },
  {
   "cell_type": "code",
   "execution_count": 5,
   "metadata": {},
   "outputs": [
    {
     "name": "stdout",
     "output_type": "stream",
     "text": [
      "CPU times: user 2h 56min 16s, sys: 1h 7min 48s, total: 4h 4min 4s\n",
      "Wall time: 1h 3min 14s\n"
     ]
    }
   ],
   "source": [
    "%%time\n",
    "import umap\n",
    "cur_umap_pca = umap.UMAP(n_neighbors=30, n_components=2, n_jobs=8).fit_transform(data_scaled)"
   ]
  },
  {
   "cell_type": "code",
   "execution_count": 2,
   "metadata": {},
   "outputs": [
    {
     "name": "stderr",
     "output_type": "stream",
     "text": [
      "/Users/bombina2/miniconda3/envs/mawa-2024-02-08/lib/python3.11/site-packages/anndata/_core/aligned_df.py:67: ImplicitModificationWarning: Transforming to str index.\n",
      "  warnings.warn(\"Transforming to str index.\", ImplicitModificationWarning)\n"
     ]
    },
    {
     "name": "stdout",
     "output_type": "stream",
     "text": [
      "CPU times: user 8.2 s, sys: 6.11 s, total: 14.3 s\n",
      "Wall time: 4.79 s\n"
     ]
    }
   ],
   "source": [
    "%%time\n",
    "\n",
    "# test with more than a million cells \n",
    "df = pd.read_csv(\"input/measurementsthymus-exported.csv\")\n",
    "list(df.columns)\n",
    "meta = df.iloc[:, :4]\n",
    "list(meta.columns)\n",
    "mat = df.iloc[:, 4:]\n",
    "list(mat.columns)\n",
    "meta = meta.rename(columns={\"Image\": \"Image ID_(standardized)\", \n",
    "                            \"Centroid X µm\": \"Centroid X (µm)_(standardized)\", \n",
    "                            \"Centroid Y µm\": \"Centroid Y (µm)_(standardized)\"})\n",
    "\n",
    "adata = ad.AnnData(mat)\n",
    "adata.obs = meta\n",
    "#adata.raw = adata\n",
    "adata.layers[\"counts\"] = adata.X.copy()\n",
    "\n",
    "#sc.pp.normalize_total(adata)\n",
    "sc.pp.log1p(adata)\n",
    "#print(adata.X)\n",
    "sc.pp.scale(adata)\n",
    "#print(adata.X)\n",
    "sc.pp.pca(adata, n_comps=10)"
   ]
  },
  {
   "cell_type": "code",
   "execution_count": 3,
   "metadata": {},
   "outputs": [
    {
     "name": "stderr",
     "output_type": "stream",
     "text": [
      "OMP: Info #276: omp_set_nested routine deprecated, please use omp_set_max_active_levels instead.\n"
     ]
    },
    {
     "name": "stdout",
     "output_type": "stream",
     "text": [
      "CPU times: user 2min 48s, sys: 18.3 s, total: 3min 7s\n",
      "Wall time: 2min 55s\n"
     ]
    }
   ],
   "source": [
    "%%time\n",
    "sc.pp.neighbors(adata, n_neighbors=10, metric='euclidean', n_pcs=10)"
   ]
  },
  {
   "cell_type": "code",
   "execution_count": 5,
   "metadata": {},
   "outputs": [
    {
     "name": "stderr",
     "output_type": "stream",
     "text": [
      "/Users/bombina2/miniconda3/envs/mawa-2024-02-08/lib/python3.11/site-packages/scanpy/tools/_tsne.py:124: UserWarning: In previous versions of scanpy, calling tsne with n_jobs > 1 would use MulticoreTSNE. Now this uses the scikit-learn version of TSNE by default. If you'd like the old behaviour (which is deprecated), pass 'use_fast_tsne=True'. Note, MulticoreTSNE is not actually faster anymore.\n",
      "  warnings.warn(\n"
     ]
    },
    {
     "name": "stdout",
     "output_type": "stream",
     "text": [
      "CPU times: user 12h 21min 16s, sys: 23min 42s, total: 12h 44min 59s\n",
      "Wall time: 2h 13min 22s\n"
     ]
    }
   ],
   "source": [
    "%%time\n",
    "sc.tl.tsne(adata, n_pcs=10, n_jobs=8)\n"
   ]
  },
  {
   "cell_type": "code",
   "execution_count": 6,
   "metadata": {},
   "outputs": [
    {
     "ename": "RuntimeError",
     "evalue": "Cannot find/open tsne_multicore shared library",
     "output_type": "error",
     "traceback": [
      "\u001b[0;31m---------------------------------------------------------------------------\u001b[0m",
      "\u001b[0;31mIndexError\u001b[0m                                Traceback (most recent call last)",
      "File \u001b[0;32m~/miniconda3/envs/mawa-2024-02-08/lib/python3.11/site-packages/MulticoreTSNE/__init__.py:99\u001b[0m, in \u001b[0;36mMulticoreTSNE.__init__\u001b[0;34m(self, n_components, perplexity, early_exaggeration, learning_rate, n_iter, n_iter_early_exag, n_iter_without_progress, min_grad_norm, metric, init, verbose, random_state, method, angle, n_jobs, cheat_metric)\u001b[0m\n\u001b[1;32m     98\u001b[0m \u001b[38;5;28;01mtry\u001b[39;00m:\n\u001b[0;32m---> 99\u001b[0m     sofile \u001b[38;5;241m=\u001b[39m \u001b[43m(\u001b[49m\u001b[43mglob\u001b[49m\u001b[43m(\u001b[49m\u001b[43mos\u001b[49m\u001b[38;5;241;43m.\u001b[39;49m\u001b[43mpath\u001b[49m\u001b[38;5;241;43m.\u001b[39;49m\u001b[43mjoin\u001b[49m\u001b[43m(\u001b[49m\u001b[43mpath\u001b[49m\u001b[43m,\u001b[49m\u001b[43m \u001b[49m\u001b[38;5;124;43m'\u001b[39;49m\u001b[38;5;124;43mlibtsne*.so\u001b[39;49m\u001b[38;5;124;43m'\u001b[39;49m\u001b[43m)\u001b[49m\u001b[43m)\u001b[49m\u001b[43m \u001b[49m\u001b[38;5;241;43m+\u001b[39;49m\n\u001b[1;32m    100\u001b[0m \u001b[43m              \u001b[49m\u001b[43mglob\u001b[49m\u001b[43m(\u001b[49m\u001b[43mos\u001b[49m\u001b[38;5;241;43m.\u001b[39;49m\u001b[43mpath\u001b[49m\u001b[38;5;241;43m.\u001b[39;49m\u001b[43mjoin\u001b[49m\u001b[43m(\u001b[49m\u001b[43mpath\u001b[49m\u001b[43m,\u001b[49m\u001b[43m \u001b[49m\u001b[38;5;124;43m'\u001b[39;49m\u001b[38;5;124;43m*tsne*.dll\u001b[39;49m\u001b[38;5;124;43m'\u001b[39;49m\u001b[43m)\u001b[49m\u001b[43m)\u001b[49m\u001b[43m)\u001b[49m\u001b[43m[\u001b[49m\u001b[38;5;241;43m0\u001b[39;49m\u001b[43m]\u001b[49m\n\u001b[1;32m    101\u001b[0m     \u001b[38;5;28mself\u001b[39m\u001b[38;5;241m.\u001b[39mC \u001b[38;5;241m=\u001b[39m \u001b[38;5;28mself\u001b[39m\u001b[38;5;241m.\u001b[39mffi\u001b[38;5;241m.\u001b[39mdlopen(os\u001b[38;5;241m.\u001b[39mpath\u001b[38;5;241m.\u001b[39mjoin(path, sofile))\n",
      "\u001b[0;31mIndexError\u001b[0m: list index out of range",
      "\nDuring handling of the above exception, another exception occurred:\n",
      "\u001b[0;31mRuntimeError\u001b[0m                              Traceback (most recent call last)",
      "File \u001b[0;32m<timed exec>:2\u001b[0m\n",
      "File \u001b[0;32m~/miniconda3/envs/mawa-2024-02-08/lib/python3.11/site-packages/legacy_api_wrap/__init__.py:80\u001b[0m, in \u001b[0;36mlegacy_api.<locals>.wrapper.<locals>.fn_compatible\u001b[0;34m(*args_all, **kw)\u001b[0m\n\u001b[1;32m     77\u001b[0m \u001b[38;5;129m@wraps\u001b[39m(fn)\n\u001b[1;32m     78\u001b[0m \u001b[38;5;28;01mdef\u001b[39;00m \u001b[38;5;21mfn_compatible\u001b[39m(\u001b[38;5;241m*\u001b[39margs_all: P\u001b[38;5;241m.\u001b[39margs, \u001b[38;5;241m*\u001b[39m\u001b[38;5;241m*\u001b[39mkw: P\u001b[38;5;241m.\u001b[39mkwargs) \u001b[38;5;241m-\u001b[39m\u001b[38;5;241m>\u001b[39m R:\n\u001b[1;32m     79\u001b[0m     \u001b[38;5;28;01mif\u001b[39;00m \u001b[38;5;28mlen\u001b[39m(args_all) \u001b[38;5;241m<\u001b[39m\u001b[38;5;241m=\u001b[39m n_positional:\n\u001b[0;32m---> 80\u001b[0m         \u001b[38;5;28;01mreturn\u001b[39;00m \u001b[43mfn\u001b[49m\u001b[43m(\u001b[49m\u001b[38;5;241;43m*\u001b[39;49m\u001b[43margs_all\u001b[49m\u001b[43m,\u001b[49m\u001b[43m \u001b[49m\u001b[38;5;241;43m*\u001b[39;49m\u001b[38;5;241;43m*\u001b[39;49m\u001b[43mkw\u001b[49m\u001b[43m)\u001b[49m\n\u001b[1;32m     82\u001b[0m     args_pos: P\u001b[38;5;241m.\u001b[39margs\n\u001b[1;32m     83\u001b[0m     args_pos, args_rest \u001b[38;5;241m=\u001b[39m args_all[:n_positional], args_all[n_positional:]\n",
      "File \u001b[0;32m~/miniconda3/envs/mawa-2024-02-08/lib/python3.11/site-packages/scanpy/tools/_tsne.py:145\u001b[0m, in \u001b[0;36mtsne\u001b[0;34m(adata, n_pcs, use_rep, perplexity, early_exaggeration, learning_rate, random_state, use_fast_tsne, n_jobs, copy, metric)\u001b[0m\n\u001b[1;32m    142\u001b[0m \u001b[38;5;28;01mtry\u001b[39;00m:\n\u001b[1;32m    143\u001b[0m     \u001b[38;5;28;01mfrom\u001b[39;00m \u001b[38;5;21;01mMulticoreTSNE\u001b[39;00m \u001b[38;5;28;01mimport\u001b[39;00m MulticoreTSNE \u001b[38;5;28;01mas\u001b[39;00m TSNE\n\u001b[0;32m--> 145\u001b[0m     tsne \u001b[38;5;241m=\u001b[39m \u001b[43mTSNE\u001b[49m\u001b[43m(\u001b[49m\u001b[38;5;241;43m*\u001b[39;49m\u001b[38;5;241;43m*\u001b[39;49m\u001b[43mparams_sklearn\u001b[49m\u001b[43m)\u001b[49m\n\u001b[1;32m    146\u001b[0m     logg\u001b[38;5;241m.\u001b[39minfo(\u001b[38;5;124m\"\u001b[39m\u001b[38;5;124m    using the \u001b[39m\u001b[38;5;124m'\u001b[39m\u001b[38;5;124mMulticoreTSNE\u001b[39m\u001b[38;5;124m'\u001b[39m\u001b[38;5;124m package by Ulyanov (2017)\u001b[39m\u001b[38;5;124m\"\u001b[39m)\n\u001b[1;32m    147\u001b[0m     \u001b[38;5;66;03m# need to transform to float64 for MulticoreTSNE...\u001b[39;00m\n",
      "File \u001b[0;32m~/miniconda3/envs/mawa-2024-02-08/lib/python3.11/site-packages/MulticoreTSNE/__init__.py:103\u001b[0m, in \u001b[0;36mMulticoreTSNE.__init__\u001b[0;34m(self, n_components, perplexity, early_exaggeration, learning_rate, n_iter, n_iter_early_exag, n_iter_without_progress, min_grad_norm, metric, init, verbose, random_state, method, angle, n_jobs, cheat_metric)\u001b[0m\n\u001b[1;32m    101\u001b[0m     \u001b[38;5;28mself\u001b[39m\u001b[38;5;241m.\u001b[39mC \u001b[38;5;241m=\u001b[39m \u001b[38;5;28mself\u001b[39m\u001b[38;5;241m.\u001b[39mffi\u001b[38;5;241m.\u001b[39mdlopen(os\u001b[38;5;241m.\u001b[39mpath\u001b[38;5;241m.\u001b[39mjoin(path, sofile))\n\u001b[1;32m    102\u001b[0m \u001b[38;5;28;01mexcept\u001b[39;00m (\u001b[38;5;167;01mIndexError\u001b[39;00m, \u001b[38;5;167;01mOSError\u001b[39;00m):\n\u001b[0;32m--> 103\u001b[0m     \u001b[38;5;28;01mraise\u001b[39;00m \u001b[38;5;167;01mRuntimeError\u001b[39;00m(\u001b[38;5;124m'\u001b[39m\u001b[38;5;124mCannot find/open tsne_multicore shared library\u001b[39m\u001b[38;5;124m'\u001b[39m)\n",
      "\u001b[0;31mRuntimeError\u001b[0m: Cannot find/open tsne_multicore shared library"
     ]
    }
   ],
   "source": [
    "%%time\n",
    "import MulticoreTSNE\n",
    "sc.tl.tsne(adata, n_pcs=10, n_jobs=8, use_fast_tsne=True)"
   ]
  }
 ],
 "metadata": {
  "kernelspec": {
   "display_name": "mawa-2024-02-08",
   "language": "python",
   "name": "python3"
  },
  "language_info": {
   "codemirror_mode": {
    "name": "ipython",
    "version": 3
   },
   "file_extension": ".py",
   "mimetype": "text/x-python",
   "name": "python",
   "nbconvert_exporter": "python",
   "pygments_lexer": "ipython3",
   "version": "3.11.9"
  }
 },
 "nbformat": 4,
 "nbformat_minor": 2
}
