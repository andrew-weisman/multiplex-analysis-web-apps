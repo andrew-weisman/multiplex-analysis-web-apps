{
 "cells": [
  {
   "cell_type": "code",
   "execution_count": 1,
   "metadata": {},
   "outputs": [
    {
     "ename": "ModuleNotFoundError",
     "evalue": "No module named 'phenograph'",
     "output_type": "error",
     "traceback": [
      "\u001b[0;31m---------------------------------------------------------------------------\u001b[0m",
      "\u001b[0;31mModuleNotFoundError\u001b[0m                       Traceback (most recent call last)",
      "File \u001b[0;32m<timed exec>:3\u001b[0m\n",
      "\u001b[0;31mModuleNotFoundError\u001b[0m: No module named 'phenograph'"
     ]
    }
   ],
   "source": [
    "%%time\n",
    "\n",
    "import pandas as pd \n",
    "import scanpy as sc\n",
    "import phenograph\n",
    "import parc\n",
    "from utag import utag\n",
    "import os \n",
    "import numpy as np\n",
    "import time\n",
    "import anndata as ad\n",
    "import scanpy.external as sce\n",
    "import igraph\n",
    "#import rapids_singlecell as rsc\n",
    "os.chdir(\"/Users/bombina2/github/multiplex-analysis-web-apps\")"
   ]
  },
  {
   "cell_type": "code",
   "execution_count": 2,
   "metadata": {},
   "outputs": [
    {
     "name": "stderr",
     "output_type": "stream",
     "text": [
      "/Users/bombina2/miniconda3/envs/mawa-2024-02-08/lib/python3.11/site-packages/anndata/_core/aligned_df.py:67: ImplicitModificationWarning: Transforming to str index.\n",
      "  warnings.warn(\"Transforming to str index.\", ImplicitModificationWarning)\n"
     ]
    },
    {
     "name": "stdout",
     "output_type": "stream",
     "text": [
      "CPU times: user 6.58 s, sys: 6.21 s, total: 12.8 s\n",
      "Wall time: 3.51 s\n"
     ]
    }
   ],
   "source": [
    "%%time\n",
    "# test with more than a million cells \n",
    "df = pd.read_csv(\"input/measurementsthymus-exported.csv\")\n",
    "list(df.columns)\n",
    "meta = df.iloc[:, :4]\n",
    "list(meta.columns)\n",
    "mat = df.iloc[:, 4:]\n",
    "list(mat.columns)\n",
    "meta = meta.rename(columns={\"Image\": \"Image ID_(standardized)\", \n",
    "                            \"Centroid X µm\": \"Centroid X (µm)_(standardized)\", \n",
    "                            \"Centroid Y µm\": \"Centroid Y (µm)_(standardized)\"})\n",
    "\n",
    "adata = ad.AnnData(mat)\n",
    "adata.obs = meta\n",
    "#adata.raw = adata\n",
    "adata.layers[\"counts\"] = adata.X.copy()\n",
    "\n",
    "#sc.pp.normalize_total(adata)\n",
    "sc.pp.log1p(adata)\n",
    "sc.tl.pca(adata, n_comps=10)"
   ]
  },
  {
   "cell_type": "code",
   "execution_count": 3,
   "metadata": {},
   "outputs": [
    {
     "name": "stdout",
     "output_type": "stream",
     "text": [
      "input data has shape 1274717 (samples) x 10 (features)\n",
      "knn struct was not available, so making one\n",
      "commencing global pruning\n",
      "commencing community detection\n",
      "partition type MVP\n",
      "77  has small population of 1\n",
      "list of cluster labels and populations 75 [(0, 34190), (1, 30502), (2, 29603), (3, 29817), (4, 29926), (5, 29225), (6, 28226), (7, 28157), (8, 27634), (9, 27051), (10, 26653), (11, 25830), (12, 25191), (13, 24209), (14, 23360), (15, 23558), (16, 23039), (17, 22594), (18, 22759), (19, 21969), (20, 22149), (21, 21604), (22, 21103), (23, 19849), (24, 20410), (25, 19629), (26, 19475), (27, 19934), (28, 19431), (29, 19249), (30, 18990), (31, 18505), (32, 18194), (33, 18208), (34, 17318), (35, 16849), (36, 16953), (37, 16399), (38, 16573), (39, 16144), (40, 16011), (41, 15896), (42, 15161), (43, 14922), (44, 14926), (45, 14420), (46, 13932), (47, 14030), (48, 13631), (49, 13188), (50, 12887), (51, 12814), (52, 13081), (53, 12639), (54, 12608), (55, 12398), (56, 11949), (57, 12007), (58, 11523), (59, 11388), (60, 11190), (61, 11094), (62, 10264), (63, 9107), (64, 8252), (65, 7763), (66, 7855), (67, 7089), (68, 5287), (69, 5132), (70, 4934), (71, 3631), (72, 3077), (73, 112), (74, 60)]\n",
      "time elapsed 153.5 seconds\n",
      "CPU times: user 6min 19s, sys: 5.3 s, total: 6min 24s\n",
      "Wall time: 2min 33s\n"
     ]
    }
   ],
   "source": [
    "%%time\n",
    "parc1 = parc.PARC(adata.obsm['X_pca'], small_pop = 50, num_threads = 8, knn=10)\n",
    "parc1.run_PARC()"
   ]
  },
  {
   "cell_type": "code",
   "execution_count": 7,
   "metadata": {},
   "outputs": [
    {
     "name": "stdout",
     "output_type": "stream",
     "text": [
      "['Experiment 11-3-22.qptiff - TCD BM PBS'\n",
      " 'Experiment 11-3-22.qptiff - TCD BM PTCY'\n",
      " 'Experiment 11-3-22.qptiff - TCD BM Spleen PBS'\n",
      " 'Experiment 11-3-22.qptiff - TCD BM Spleen PTCY']\n"
     ]
    }
   ],
   "source": [
    "print(pd.unique(adata.obs[\"Image ID_(standardized)\"]))\n",
    "#print(len(adata.obs[\"Image\"]))"
   ]
  }
 ],
 "metadata": {
  "kernelspec": {
   "display_name": "mawa-2024-02-08",
   "language": "python",
   "name": "python3"
  },
  "language_info": {
   "codemirror_mode": {
    "name": "ipython",
    "version": 3
   },
   "file_extension": ".py",
   "mimetype": "text/x-python",
   "name": "python",
   "nbconvert_exporter": "python",
   "pygments_lexer": "ipython3",
   "version": "3.11.9"
  }
 },
 "nbformat": 4,
 "nbformat_minor": 2
}
