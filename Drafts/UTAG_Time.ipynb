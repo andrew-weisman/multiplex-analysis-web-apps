{
 "cells": [
  {
   "cell_type": "code",
   "execution_count": 1,
   "metadata": {},
   "outputs": [
    {
     "name": "stderr",
     "output_type": "stream",
     "text": [
      "/home/abombin/miniconda3/envs/mawa-2024-02-08/lib/python3.11/site-packages/tqdm/auto.py:21: TqdmWarning: IProgress not found. Please update jupyter and ipywidgets. See https://ipywidgets.readthedocs.io/en/stable/user_install.html\n",
      "  from .autonotebook import tqdm as notebook_tqdm\n"
     ]
    }
   ],
   "source": [
    "import pandas as pd \n",
    "import scanpy as sc\n",
    "import phenograph\n",
    "import parc\n",
    "from utag import utag\n",
    "import os \n",
    "import numpy as np\n",
    "import time\n",
    "import anndata as ad\n",
    "\n",
    "os.chdir(\"/home/abombin/Mawa/multiplex-analysis-web-apps\")"
   ]
  },
  {
   "cell_type": "code",
   "execution_count": 2,
   "metadata": {},
   "outputs": [
    {
     "name": "stderr",
     "output_type": "stream",
     "text": [
      "/home/abombin/miniconda3/envs/mawa-2024-02-08/lib/python3.11/site-packages/anndata/_core/aligned_df.py:67: ImplicitModificationWarning: Transforming to str index.\n",
      "  warnings.warn(\"Transforming to str index.\", ImplicitModificationWarning)\n"
     ]
    }
   ],
   "source": [
    "df = pd.read_csv(\"input/measurementsthymus-exported.csv\")\n",
    "list(df.columns)\n",
    "meta = df.iloc[:, :4]\n",
    "list(meta.columns)\n",
    "mat = df.iloc[:, 4:]\n",
    "list(mat.columns)\n",
    "meta = meta.rename(columns={\"Image\": \"Image ID_(standardized)\", \n",
    "                            \"Centroid X µm\": \"Centroid X (µm)_(standardized)\", \n",
    "                            \"Centroid Y µm\": \"Centroid Y (µm)_(standardized)\"})\n",
    "\n",
    "adata = ad.AnnData(mat)\n",
    "adata.obs = meta\n",
    "\n",
    "adata.obsm['spatial'] = np.array(adata.obs[[\"Centroid X (µm)_(standardized)\", \"Centroid Y (µm)_(standardized)\"]])\n"
   ]
  },
  {
   "cell_type": "code",
   "execution_count": 4,
   "metadata": {},
   "outputs": [
    {
     "name": "stderr",
     "output_type": "stream",
     "text": [
      "/home/abombin/miniconda3/envs/mawa-2024-02-08/lib/python3.11/site-packages/anndata/_core/aligned_df.py:67: ImplicitModificationWarning: Transforming to str index.\n",
      "  warnings.warn(\"Transforming to str index.\", ImplicitModificationWarning)\n"
     ]
    },
    {
     "name": "stdout",
     "output_type": "stream",
     "text": [
      "Applying UTAG Algorithm...\n"
     ]
    },
    {
     "name": "stderr",
     "output_type": "stream",
     "text": [
      "100%|██████████| 4/4 [00:15<00:00,  3.96s/it]\n"
     ]
    },
    {
     "ename": "MemoryError",
     "evalue": "Unable to allocate 76.3 GiB for an array with shape (101169, 101169) and data type float64",
     "output_type": "error",
     "traceback": [
      "\u001b[0;31m---------------------------------------------------------------------------\u001b[0m",
      "\u001b[0;31mRemoteTraceback\u001b[0m                           Traceback (most recent call last)",
      "\u001b[0;31mRemoteTraceback\u001b[0m: \n\"\"\"\nTraceback (most recent call last):\n  File \"/home/abombin/miniconda3/envs/mawa-2024-02-08/lib/python3.11/multiprocessing/pool.py\", line 125, in worker\n    result = (True, func(*args, **kwds))\n                    ^^^^^^^^^^^^^^^^^^^\n  File \"/home/abombin/miniconda3/envs/mawa-2024-02-08/lib/python3.11/multiprocessing/pool.py\", line 48, in mapstar\n    return list(map(*args))\n           ^^^^^^^^^^^^^^^^\n  File \"/home/abombin/miniconda3/envs/mawa-2024-02-08/lib/python3.11/site-packages/parmap/parmap.py\", line 94, in _func_star_single\n    return func_item_args[0](\n           ^^^^^^^^^^^^^^^^^^\n  File \"/home/abombin/miniconda3/envs/mawa-2024-02-08/lib/python3.11/site-packages/utag/segmentation.py\", line 228, in _parallel_message_pass\n    ad = custom_message_passing(ad, mode=mode)\n         ^^^^^^^^^^^^^^^^^^^^^^^^^^^^^^^^^^^^^\n  File \"/home/abombin/miniconda3/envs/mawa-2024-02-08/lib/python3.11/site-packages/utag/segmentation.py\", line 237, in custom_message_passing\n    A_mod = np.asarray(A + np.eye(A.shape[0]))\n                           ^^^^^^^^^^^^^^^^^^\n  File \"/home/abombin/miniconda3/envs/mawa-2024-02-08/lib/python3.11/site-packages/numpy/lib/twodim_base.py\", line 211, in eye\n    m = zeros((N, M), dtype=dtype, order=order)\n        ^^^^^^^^^^^^^^^^^^^^^^^^^^^^^^^^^^^^^^^\nnumpy.core._exceptions._ArrayMemoryError: Unable to allocate 76.3 GiB for an array with shape (101169, 101169) and data type float64\n\"\"\"",
      "\nThe above exception was the direct cause of the following exception:\n",
      "\u001b[0;31mMemoryError\u001b[0m                               Traceback (most recent call last)",
      "File \u001b[0;32m<timed exec>:1\u001b[0m\n",
      "File \u001b[0;32m~/miniconda3/envs/mawa-2024-02-08/lib/python3.11/site-packages/utag/segmentation.py:141\u001b[0m, in \u001b[0;36mutag\u001b[0;34m(adata, channels_to_use, slide_key, save_key, filter_by_variance, max_dist, normalization_mode, keep_spatial_connectivity, pca_kwargs, apply_umap, umap_kwargs, apply_clustering, clustering_method, resolutions, leiden_kwargs, parc_kwargs, parallel, processes)\u001b[0m\n\u001b[1;32m    137\u001b[0m \u001b[38;5;28;01mif\u001b[39;00m slide_key:\n\u001b[1;32m    138\u001b[0m     ads \u001b[38;5;241m=\u001b[39m [\n\u001b[1;32m    139\u001b[0m         ad[ad\u001b[38;5;241m.\u001b[39mobs[slide_key] \u001b[38;5;241m==\u001b[39m slide]\u001b[38;5;241m.\u001b[39mcopy() \u001b[38;5;28;01mfor\u001b[39;00m slide \u001b[38;5;129;01min\u001b[39;00m ad\u001b[38;5;241m.\u001b[39mobs[slide_key]\u001b[38;5;241m.\u001b[39munique()\n\u001b[1;32m    140\u001b[0m     ]\n\u001b[0;32m--> 141\u001b[0m     ad_list \u001b[38;5;241m=\u001b[39m \u001b[43mparmap\u001b[49m\u001b[38;5;241;43m.\u001b[39;49m\u001b[43mmap\u001b[49m\u001b[43m(\u001b[49m\n\u001b[1;32m    142\u001b[0m \u001b[43m        \u001b[49m\u001b[43m_parallel_message_pass\u001b[49m\u001b[43m,\u001b[49m\n\u001b[1;32m    143\u001b[0m \u001b[43m        \u001b[49m\u001b[43mads\u001b[49m\u001b[43m,\u001b[49m\n\u001b[1;32m    144\u001b[0m \u001b[43m        \u001b[49m\u001b[43mradius\u001b[49m\u001b[38;5;241;43m=\u001b[39;49m\u001b[43mmax_dist\u001b[49m\u001b[43m,\u001b[49m\n\u001b[1;32m    145\u001b[0m \u001b[43m        \u001b[49m\u001b[43mcoord_type\u001b[49m\u001b[38;5;241;43m=\u001b[39;49m\u001b[38;5;124;43m\"\u001b[39;49m\u001b[38;5;124;43mgeneric\u001b[39;49m\u001b[38;5;124;43m\"\u001b[39;49m\u001b[43m,\u001b[49m\n\u001b[1;32m    146\u001b[0m \u001b[43m        \u001b[49m\u001b[43mset_diag\u001b[49m\u001b[38;5;241;43m=\u001b[39;49m\u001b[38;5;28;43;01mTrue\u001b[39;49;00m\u001b[43m,\u001b[49m\n\u001b[1;32m    147\u001b[0m \u001b[43m        \u001b[49m\u001b[43mmode\u001b[49m\u001b[38;5;241;43m=\u001b[39;49m\u001b[43mnormalization_mode\u001b[49m\u001b[43m,\u001b[49m\n\u001b[1;32m    148\u001b[0m \u001b[43m        \u001b[49m\u001b[43mpm_pbar\u001b[49m\u001b[38;5;241;43m=\u001b[39;49m\u001b[38;5;28;43;01mTrue\u001b[39;49;00m\u001b[43m,\u001b[49m\n\u001b[1;32m    149\u001b[0m \u001b[43m        \u001b[49m\u001b[43mpm_parallel\u001b[49m\u001b[38;5;241;43m=\u001b[39;49m\u001b[43mparallel\u001b[49m\u001b[43m,\u001b[49m\n\u001b[1;32m    150\u001b[0m \u001b[43m        \u001b[49m\u001b[43mpm_processes\u001b[49m\u001b[38;5;241;43m=\u001b[39;49m\u001b[43mprocesses\u001b[49m\u001b[43m,\u001b[49m\n\u001b[1;32m    151\u001b[0m \u001b[43m    \u001b[49m\u001b[43m)\u001b[49m\n\u001b[1;32m    152\u001b[0m     ad_result \u001b[38;5;241m=\u001b[39m anndata\u001b[38;5;241m.\u001b[39mconcat(ad_list)\n\u001b[1;32m    153\u001b[0m     \u001b[38;5;28;01mif\u001b[39;00m keep_spatial_connectivity:\n",
      "File \u001b[0;32m~/miniconda3/envs/mawa-2024-02-08/lib/python3.11/site-packages/parmap/parmap.py:333\u001b[0m, in \u001b[0;36mmap\u001b[0;34m(function, iterable, *args, **kwargs)\u001b[0m\n\u001b[1;32m    307\u001b[0m \u001b[38;5;28;01mdef\u001b[39;00m \u001b[38;5;21mmap\u001b[39m(function, iterable, \u001b[38;5;241m*\u001b[39margs, \u001b[38;5;241m*\u001b[39m\u001b[38;5;241m*\u001b[39mkwargs):\n\u001b[1;32m    308\u001b[0m \u001b[38;5;250m    \u001b[39m\u001b[38;5;124;03m\"\"\"This function is equivalent to:\u001b[39;00m\n\u001b[1;32m    309\u001b[0m \u001b[38;5;124;03m     >>> [function(x, args[0], args[1],...) for x in iterable]\u001b[39;00m\n\u001b[1;32m    310\u001b[0m \n\u001b[0;32m   (...)\u001b[0m\n\u001b[1;32m    331\u001b[0m \u001b[38;5;124;03m    :type pm_pbar: bool, dict or callable\u001b[39;00m\n\u001b[1;32m    332\u001b[0m \u001b[38;5;124;03m    \"\"\"\u001b[39;00m\n\u001b[0;32m--> 333\u001b[0m     \u001b[38;5;28;01mreturn\u001b[39;00m \u001b[43m_map_or_starmap\u001b[49m\u001b[43m(\u001b[49m\u001b[43mfunction\u001b[49m\u001b[43m,\u001b[49m\u001b[43m \u001b[49m\u001b[43miterable\u001b[49m\u001b[43m,\u001b[49m\u001b[43m \u001b[49m\u001b[43margs\u001b[49m\u001b[43m,\u001b[49m\u001b[43m \u001b[49m\u001b[43mkwargs\u001b[49m\u001b[43m,\u001b[49m\u001b[43m \u001b[49m\u001b[38;5;124;43m\"\u001b[39;49m\u001b[38;5;124;43mmap\u001b[39;49m\u001b[38;5;124;43m\"\u001b[39;49m\u001b[43m)\u001b[49m\n",
      "File \u001b[0;32m~/miniconda3/envs/mawa-2024-02-08/lib/python3.11/site-packages/parmap/parmap.py:301\u001b[0m, in \u001b[0;36m_map_or_starmap\u001b[0;34m(function, iterable, args, kwargs, map_or_starmap)\u001b[0m\n\u001b[1;32m    297\u001b[0m     _do_pbar(\n\u001b[1;32m    298\u001b[0m         result, num_tasks, chunksize, refresh_time\u001b[38;5;241m=\u001b[39m\u001b[38;5;241m2\u001b[39m, pbar_wrapper\u001b[38;5;241m=\u001b[39mpbar_wrapper\n\u001b[1;32m    299\u001b[0m     )\n\u001b[1;32m    300\u001b[0m \u001b[38;5;28;01mfinally\u001b[39;00m:\n\u001b[0;32m--> 301\u001b[0m     output \u001b[38;5;241m=\u001b[39m \u001b[43mresult\u001b[49m\u001b[38;5;241;43m.\u001b[39;49m\u001b[43mget\u001b[49m\u001b[43m(\u001b[49m\u001b[43m)\u001b[49m\n\u001b[1;32m    302\u001b[0m     \u001b[38;5;28;01mif\u001b[39;00m close_pool:\n\u001b[1;32m    303\u001b[0m         pool\u001b[38;5;241m.\u001b[39mjoin()\n",
      "File \u001b[0;32m~/miniconda3/envs/mawa-2024-02-08/lib/python3.11/multiprocessing/pool.py:774\u001b[0m, in \u001b[0;36mApplyResult.get\u001b[0;34m(self, timeout)\u001b[0m\n\u001b[1;32m    772\u001b[0m     \u001b[38;5;28;01mreturn\u001b[39;00m \u001b[38;5;28mself\u001b[39m\u001b[38;5;241m.\u001b[39m_value\n\u001b[1;32m    773\u001b[0m \u001b[38;5;28;01melse\u001b[39;00m:\n\u001b[0;32m--> 774\u001b[0m     \u001b[38;5;28;01mraise\u001b[39;00m \u001b[38;5;28mself\u001b[39m\u001b[38;5;241m.\u001b[39m_value\n",
      "File \u001b[0;32m~/miniconda3/envs/mawa-2024-02-08/lib/python3.11/multiprocessing/pool.py:125\u001b[0m, in \u001b[0;36mworker\u001b[0;34m()\u001b[0m\n\u001b[1;32m    123\u001b[0m job, i, func, args, kwds \u001b[38;5;241m=\u001b[39m task\n\u001b[1;32m    124\u001b[0m \u001b[38;5;28;01mtry\u001b[39;00m:\n\u001b[0;32m--> 125\u001b[0m     result \u001b[38;5;241m=\u001b[39m (\u001b[38;5;28;01mTrue\u001b[39;00m, func(\u001b[38;5;241m*\u001b[39margs, \u001b[38;5;241m*\u001b[39m\u001b[38;5;241m*\u001b[39mkwds))\n\u001b[1;32m    126\u001b[0m \u001b[38;5;28;01mexcept\u001b[39;00m \u001b[38;5;167;01mException\u001b[39;00m \u001b[38;5;28;01mas\u001b[39;00m e:\n\u001b[1;32m    127\u001b[0m     \u001b[38;5;28;01mif\u001b[39;00m wrap_exception \u001b[38;5;129;01mand\u001b[39;00m func \u001b[38;5;129;01mis\u001b[39;00m \u001b[38;5;129;01mnot\u001b[39;00m _helper_reraises_exception:\n",
      "File \u001b[0;32m~/miniconda3/envs/mawa-2024-02-08/lib/python3.11/multiprocessing/pool.py:48\u001b[0m, in \u001b[0;36mmapstar\u001b[0;34m()\u001b[0m\n\u001b[1;32m     47\u001b[0m \u001b[38;5;28;01mdef\u001b[39;00m \u001b[38;5;21mmapstar\u001b[39m(args):\n\u001b[0;32m---> 48\u001b[0m     \u001b[38;5;28;01mreturn\u001b[39;00m \u001b[38;5;28mlist\u001b[39m(\u001b[38;5;28mmap\u001b[39m(\u001b[38;5;241m*\u001b[39margs))\n",
      "File \u001b[0;32m~/miniconda3/envs/mawa-2024-02-08/lib/python3.11/site-packages/parmap/parmap.py:94\u001b[0m, in \u001b[0;36m_func_star_single\u001b[0;34m()\u001b[0m\n\u001b[1;32m     86\u001b[0m \u001b[38;5;28;01mdef\u001b[39;00m \u001b[38;5;21m_func_star_single\u001b[39m(func_item_args):\n\u001b[1;32m     87\u001b[0m \u001b[38;5;250m    \u001b[39m\u001b[38;5;124;03m\"\"\"Equivalent to:\u001b[39;00m\n\u001b[1;32m     88\u001b[0m \u001b[38;5;124;03m    func = func_item_args[0]\u001b[39;00m\n\u001b[1;32m     89\u001b[0m \u001b[38;5;124;03m    item = func_item_args[1]\u001b[39;00m\n\u001b[0;32m   (...)\u001b[0m\n\u001b[1;32m     92\u001b[0m \u001b[38;5;124;03m    return func(item,args[0],args[1],..., **kwargs)\u001b[39;00m\n\u001b[1;32m     93\u001b[0m \u001b[38;5;124;03m    \"\"\"\u001b[39;00m\n\u001b[0;32m---> 94\u001b[0m     \u001b[38;5;28;01mreturn\u001b[39;00m func_item_args[\u001b[38;5;241m0\u001b[39m](\n\u001b[1;32m     95\u001b[0m         \u001b[38;5;241m*\u001b[39m[func_item_args[\u001b[38;5;241m1\u001b[39m]] \u001b[38;5;241m+\u001b[39m func_item_args[\u001b[38;5;241m2\u001b[39m], \u001b[38;5;241m*\u001b[39m\u001b[38;5;241m*\u001b[39mfunc_item_args[\u001b[38;5;241m3\u001b[39m]\n\u001b[1;32m     96\u001b[0m     )\n",
      "File \u001b[0;32m~/miniconda3/envs/mawa-2024-02-08/lib/python3.11/site-packages/utag/segmentation.py:228\u001b[0m, in \u001b[0;36m_parallel_message_pass\u001b[0;34m()\u001b[0m\n\u001b[1;32m    220\u001b[0m \u001b[38;5;28;01mdef\u001b[39;00m \u001b[38;5;21m_parallel_message_pass\u001b[39m(\n\u001b[1;32m    221\u001b[0m     ad: AnnData,\n\u001b[1;32m    222\u001b[0m     radius: \u001b[38;5;28mint\u001b[39m,\n\u001b[0;32m   (...)\u001b[0m\n\u001b[1;32m    225\u001b[0m     mode: \u001b[38;5;28mstr\u001b[39m,\n\u001b[1;32m    226\u001b[0m ):\n\u001b[1;32m    227\u001b[0m     sq\u001b[38;5;241m.\u001b[39mgr\u001b[38;5;241m.\u001b[39mspatial_neighbors(ad, radius\u001b[38;5;241m=\u001b[39mradius, coord_type\u001b[38;5;241m=\u001b[39mcoord_type, set_diag\u001b[38;5;241m=\u001b[39mset_diag)\n\u001b[0;32m--> 228\u001b[0m     ad \u001b[38;5;241m=\u001b[39m custom_message_passing(ad, mode\u001b[38;5;241m=\u001b[39mmode)\n\u001b[1;32m    229\u001b[0m     \u001b[38;5;28;01mreturn\u001b[39;00m ad\n",
      "File \u001b[0;32m~/miniconda3/envs/mawa-2024-02-08/lib/python3.11/site-packages/utag/segmentation.py:237\u001b[0m, in \u001b[0;36mcustom_message_passing\u001b[0;34m()\u001b[0m\n\u001b[1;32m    235\u001b[0m \u001b[38;5;28;01mif\u001b[39;00m mode \u001b[38;5;241m==\u001b[39m \u001b[38;5;124m\"\u001b[39m\u001b[38;5;124ml1_norm\u001b[39m\u001b[38;5;124m\"\u001b[39m:\n\u001b[1;32m    236\u001b[0m     A \u001b[38;5;241m=\u001b[39m adata\u001b[38;5;241m.\u001b[39mobsp[\u001b[38;5;124m\"\u001b[39m\u001b[38;5;124mspatial_connectivities\u001b[39m\u001b[38;5;124m\"\u001b[39m]\n\u001b[0;32m--> 237\u001b[0m     A_mod \u001b[38;5;241m=\u001b[39m np\u001b[38;5;241m.\u001b[39masarray(A \u001b[38;5;241m+\u001b[39m np\u001b[38;5;241m.\u001b[39meye(A\u001b[38;5;241m.\u001b[39mshape[\u001b[38;5;241m0\u001b[39m]))\n\u001b[1;32m    239\u001b[0m     \u001b[38;5;28;01mfrom\u001b[39;00m \u001b[38;5;21;01msklearn\u001b[39;00m\u001b[38;5;21;01m.\u001b[39;00m\u001b[38;5;21;01mpreprocessing\u001b[39;00m \u001b[38;5;28;01mimport\u001b[39;00m normalize\n\u001b[1;32m    241\u001b[0m     affinity \u001b[38;5;241m=\u001b[39m normalize(A_mod, axis\u001b[38;5;241m=\u001b[39m\u001b[38;5;241m1\u001b[39m, norm\u001b[38;5;241m=\u001b[39m\u001b[38;5;124m\"\u001b[39m\u001b[38;5;124ml1\u001b[39m\u001b[38;5;124m\"\u001b[39m)\n",
      "File \u001b[0;32m~/miniconda3/envs/mawa-2024-02-08/lib/python3.11/site-packages/numpy/lib/twodim_base.py:211\u001b[0m, in \u001b[0;36meye\u001b[0;34m()\u001b[0m\n\u001b[1;32m    209\u001b[0m \u001b[38;5;28;01mif\u001b[39;00m M \u001b[38;5;129;01mis\u001b[39;00m \u001b[38;5;28;01mNone\u001b[39;00m:\n\u001b[1;32m    210\u001b[0m     M \u001b[38;5;241m=\u001b[39m N\n\u001b[0;32m--> 211\u001b[0m m \u001b[38;5;241m=\u001b[39m zeros((N, M), dtype\u001b[38;5;241m=\u001b[39mdtype, order\u001b[38;5;241m=\u001b[39morder)\n\u001b[1;32m    212\u001b[0m \u001b[38;5;28;01mif\u001b[39;00m k \u001b[38;5;241m>\u001b[39m\u001b[38;5;241m=\u001b[39m M:\n\u001b[1;32m    213\u001b[0m     \u001b[38;5;28;01mreturn\u001b[39;00m m\n",
      "\u001b[0;31mMemoryError\u001b[0m: Unable to allocate 76.3 GiB for an array with shape (101169, 101169) and data type float64"
     ]
    }
   ],
   "source": [
    "%%time\n",
    "utag_results = utag(adata,\n",
    "        slide_key=\"Image ID_(standardized)\",\n",
    "        normalization_mode='l1_norm',\n",
    "        apply_clustering=True,\n",
    "        clustering_method = \"leiden\", \n",
    "        resolutions = [1],\n",
    "        leiden_kwargs={\"n_iterations\": -1, \"random_state\": 42}\n",
    "    )"
   ]
  },
  {
   "cell_type": "code",
   "execution_count": 5,
   "metadata": {},
   "outputs": [],
   "source": [
    "sc.pp.normalize_total(adata)\n",
    "sc.pp.log1p(adata)\n",
    "sc.pp.pca(adata, n_comps=10)"
   ]
  },
  {
   "cell_type": "code",
   "execution_count": 7,
   "metadata": {},
   "outputs": [
    {
     "name": "stderr",
     "output_type": "stream",
     "text": [
      "/home/abombin/miniconda3/envs/mawa-2024-02-08/lib/python3.11/site-packages/anndata/_core/aligned_df.py:67: ImplicitModificationWarning: Transforming to str index.\n",
      "  warnings.warn(\"Transforming to str index.\", ImplicitModificationWarning)\n"
     ]
    },
    {
     "name": "stdout",
     "output_type": "stream",
     "text": [
      "Applying UTAG Algorithm...\n"
     ]
    },
    {
     "name": "stderr",
     "output_type": "stream",
     "text": [
      "100%|██████████| 4/4 [00:20<00:00,  5.12s/it]\n",
      "  0%|          | 0/1 [00:00<?, ?it/s]"
     ]
    },
    {
     "name": "stdout",
     "output_type": "stream",
     "text": [
      "Applying Leiden Clustering at Resolution: 1...\n"
     ]
    }
   ],
   "source": [
    "%%time\n",
    "utag_results = utag(adata,\n",
    "        slide_key=\"Image ID_(standardized)\",\n",
    "        normalization_mode=None,\n",
    "        apply_clustering=True,\n",
    "        clustering_method = \"leiden\", \n",
    "        resolutions = [1],\n",
    "        leiden_kwargs={\"n_iterations\": -1, \"random_state\": 42}\n",
    "    )"
   ]
  }
 ],
 "metadata": {
  "kernelspec": {
   "display_name": "mawa-2024-02-08",
   "language": "python",
   "name": "python3"
  },
  "language_info": {
   "codemirror_mode": {
    "name": "ipython",
    "version": 3
   },
   "file_extension": ".py",
   "mimetype": "text/x-python",
   "name": "python",
   "nbconvert_exporter": "python",
   "pygments_lexer": "ipython3",
   "version": "3.11.8"
  }
 },
 "nbformat": 4,
 "nbformat_minor": 2
}
