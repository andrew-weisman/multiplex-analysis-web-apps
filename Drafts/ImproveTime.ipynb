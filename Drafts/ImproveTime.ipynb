{
 "cells": [
  {
   "cell_type": "code",
   "execution_count": 4,
   "metadata": {},
   "outputs": [
    {
     "name": "stdout",
     "output_type": "stream",
     "text": [
      "CPU times: user 61 µs, sys: 0 ns, total: 61 µs\n",
      "Wall time: 65.1 µs\n"
     ]
    }
   ],
   "source": [
    "%%time\n",
    "\n",
    "import pandas as pd \n",
    "import scanpy as sc\n",
    "import phenograph\n",
    "import parc\n",
    "from utag import utag\n",
    "import os \n",
    "import numpy as np\n",
    "import time\n",
    "import anndata as ad\n",
    "import scanpy.external as sce\n",
    "import igraph\n",
    "#import rapids_singlecell as rsc\n",
    "os.chdir(\"/home/abombin/Mawa/multiplex-analysis-web-apps\")"
   ]
  },
  {
   "cell_type": "code",
   "execution_count": null,
   "metadata": {},
   "outputs": [],
   "source": [
    "%%time\n",
    "adata = sc.read(\"input/clust_dat.h5ad\")\n",
    "print(adata)\n"
   ]
  },
  {
   "cell_type": "code",
   "execution_count": null,
   "metadata": {},
   "outputs": [],
   "source": [
    "sc.pp.neighbors(adata, n_neighbors=10, metric='euclidean', n_pcs=None, random_state=42)\n",
    "sc.tl.leiden(adata, resolution=1, random_state=42, n_iterations=-1, flavor=\"igraph\")\n",
    "print(adata.obsp['connectivities'])\n",
    "print(adata.uns['neighbors'])\n",
    "\n",
    "neighb = adata.uns['neighbors'][0]"
   ]
  },
  {
   "cell_type": "code",
   "execution_count": null,
   "metadata": {},
   "outputs": [],
   "source": [
    "communities, graph, Q = phenograph.cluster(adata.X, clustering_algo=\"leiden\", k=10, \n",
    "                                               min_cluster_size=10, primary_metric=\"euclidean\", \n",
    "                                               resolution_parameter=1, nn_method=\"kdtree\",\n",
    "                                               seed=42, n_iterations=-1, n_jobs=8)\n",
    "\n",
    "print(graph)\n",
    "\n",
    "cur_graph  = graph['edges']\n",
    "cur_graph"
   ]
  },
  {
   "cell_type": "code",
   "execution_count": null,
   "metadata": {},
   "outputs": [],
   "source": [
    "print(type(graph))\n",
    "print(type(adata.obsp['connectivities']))"
   ]
  },
  {
   "cell_type": "code",
   "execution_count": null,
   "metadata": {},
   "outputs": [],
   "source": [
    "adata = sc.read(\"input/clust_dat.h5ad\")\n",
    "sc.tl.pca(adata)\n",
    "sce.tl.phenograph(adata, clustering_algo=\"leiden\", k=30)\n",
    "print(adata)\n"
   ]
  },
  {
   "cell_type": "code",
   "execution_count": null,
   "metadata": {},
   "outputs": [],
   "source": [
    "print(adata.obsp)\n",
    "#print(adata.uns['neighbors'])"
   ]
  },
  {
   "cell_type": "code",
   "execution_count": 5,
   "metadata": {},
   "outputs": [
    {
     "name": "stdout",
     "output_type": "stream",
     "text": [
      "CPU times: user 97.6 ms, sys: 54.3 ms, total: 152 ms\n",
      "Wall time: 150 ms\n"
     ]
    },
    {
     "name": "stderr",
     "output_type": "stream",
     "text": [
      "/home/abombin/miniconda3/envs/mawa-2024-02-08/lib/python3.11/site-packages/anndata/_core/aligned_df.py:67: ImplicitModificationWarning: Transforming to str index.\n",
      "  warnings.warn(\"Transforming to str index.\", ImplicitModificationWarning)\n"
     ]
    }
   ],
   "source": [
    "%%time\n",
    "\n",
    "adata = sc.read(\"input/clust_dat.h5ad\")\n",
    "# Assuming adata is your AnnData object and it has been preprocessed\n"
   ]
  },
  {
   "cell_type": "code",
   "execution_count": 6,
   "metadata": {},
   "outputs": [
    {
     "name": "stdout",
     "output_type": "stream",
     "text": [
      "Finding 10 nearest neighbors using minkowski metric and 'auto' algorithm\n",
      "Neighbors computed in 1.3123178482055664 seconds\n",
      "Jaccard graph constructed in 1.5891451835632324 seconds\n",
      "Running Leiden optimization\n",
      "Leiden completed in 10.359914302825928 seconds\n",
      "Sorting communities by size, please wait ...\n",
      "PhenoGraph completed in 13.80940556526184 seconds\n",
      "CPU times: user 21.3 s, sys: 571 ms, total: 21.9 s\n",
      "Wall time: 13.8 s\n"
     ]
    }
   ],
   "source": [
    "%%time\n",
    "\n",
    "communities, graph, Q = phenograph.cluster(adata.X, clustering_algo=\"leiden\", k=10, \n",
    "                                               min_cluster_size=10, primary_metric=\"euclidean\", \n",
    "                                               resolution_parameter=1, nn_method=\"kdtree\",\n",
    "                                               seed=42, n_iterations=-1, n_jobs=8)\n",
    "\n",
    "adata.obsp['connectivities'] = graph\n",
    "adata.uns['neighbors'] = {'connectivities_key': 'connectivities', 'distances_key': 'distances', 'params': {'n_neighbors': 10, 'method': 'phenograph', 'random_state': 42, 'metric': 'euclidean'}}"
   ]
  },
  {
   "cell_type": "code",
   "execution_count": 7,
   "metadata": {},
   "outputs": [
    {
     "name": "stdout",
     "output_type": "stream",
     "text": [
      "WARNING: .obsp[\"connectivities\"] have not been computed using umap\n"
     ]
    },
    {
     "name": "stderr",
     "output_type": "stream",
     "text": [
      "/home/abombin/miniconda3/envs/mawa-2024-02-08/lib/python3.11/site-packages/umap/spectral.py:485: RuntimeWarning: divide by zero encountered in divide\n",
      "  1.0 / sqrt_deg, 0, graph.shape[0], graph.shape[0]\n"
     ]
    },
    {
     "name": "stdout",
     "output_type": "stream",
     "text": [
      "CPU times: user 1min 32s, sys: 2min 14s, total: 3min 46s\n",
      "Wall time: 18 s\n"
     ]
    }
   ],
   "source": [
    "%%time\n",
    "sc.tl.umap(adata)"
   ]
  },
  {
   "cell_type": "code",
   "execution_count": null,
   "metadata": {},
   "outputs": [],
   "source": []
  }
 ],
 "metadata": {
  "kernelspec": {
   "display_name": "mawa-2024-02-08",
   "language": "python",
   "name": "python3"
  },
  "language_info": {
   "codemirror_mode": {
    "name": "ipython",
    "version": 3
   },
   "file_extension": ".py",
   "mimetype": "text/x-python",
   "name": "python",
   "nbconvert_exporter": "python",
   "pygments_lexer": "ipython3",
   "version": "3.11.8"
  }
 },
 "nbformat": 4,
 "nbformat_minor": 2
}
