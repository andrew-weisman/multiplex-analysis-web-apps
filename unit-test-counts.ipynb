{
 "cells": [
  {
   "cell_type": "code",
   "execution_count": null,
   "metadata": {},
   "outputs": [],
   "source": [
    "import numpy as np\n",
    "from sklearn.metrics.pairwise import euclidean_distances\n",
    "\n",
    "def process_cell_counts(i, cell_positions, cell_labels, dist_bin_px):\n",
    "    # squared distance\n",
    "    counts = np.sum(np.square(cell_positions[i][np.newaxis, :] - cell_positions), axis=1)\n",
    "    # inequalities around arcs\n",
    "    counts = counts[np.newaxis, :] <= np.square(np.concatenate([[0], dist_bin_px]))[:, np.newaxis]\n",
    "    # matmul to counts\n",
    "    counts = np.diff(np.matmul(counts.astype(int), cell_labels.astype(int)), axis=0)\n",
    "    # return index and counts\n",
    "    return i, counts\n",
    "\n",
    "def euclidian_counts(idx, distances, cell_labels, dist_bin_px):\n",
    "\n",
    "    idx_counts = None\n",
    "    cell_labels_uni = sorted(cell_labels.unique())\n",
    "    dist_bin_px = np.concatenate([[0], dist_bin_px])\n",
    "    for i in range(len(dist_bin_px)-1):\n",
    "        present_cells = cell_labels[(distances[idx] > dist_bin_px[i]) & (distances[idx] <= dist_bin_px[i+1])]\n",
    "        these_counts = [sum(present_cells == label) for label in cell_labels_uni]\n",
    "\n",
    "        if idx_counts is not None:\n",
    "            idx_counts = np.vstack((idx_counts, these_counts))\n",
    "        else:\n",
    "            idx_counts = np.array(these_counts)\n",
    "\n",
    "    return idx_counts"
   ]
  },
  {
   "cell_type": "code",
   "execution_count": null,
   "metadata": {},
   "outputs": [],
   "source": [
    "import matplotlib.pyplot as plt\n",
    "import seaborn as sns\n",
    "\n",
    "def draw_cell_scatter(df, ind = None):\n",
    "    sns.scatterplot(data = df,\n",
    "                    x = 'Cell X Position',\n",
    "                    y = 'Cell Y Position',\n",
    "                    hue = 'Lineage')\n",
    "    \n",
    "    if ind is not None:\n",
    "        plt.Circle(df.loc[ind, ['Cell X Position', 'Cell Y Position']])"
   ]
  },
  {
   "cell_type": "code",
   "execution_count": null,
   "metadata": {},
   "outputs": [],
   "source": [
    "import pandas as pd\n",
    "from functools import partial\n",
    "\n",
    "dist_bin_um=np.array([25, 50, 100, 150, 200])\n",
    "dist_bin_px = dist_bin_um/ 0.5\n",
    "\n",
    "filename = './sample.csv'\n",
    "df = pd.read_csv(filename)"
   ]
  },
  {
   "cell_type": "code",
   "execution_count": null,
   "metadata": {},
   "outputs": [],
   "source": [
    "distances = euclidean_distances(df[['Cell X Position', 'Cell Y Position']])\n",
    "cell_labels = df['Lineage']\n",
    "\n",
    "args = dict(distances=distances,\n",
    "            cell_labels=cell_labels,\n",
    "            dist_bin_px=dist_bin_px)\n",
    "pool_map_fn = partial(euclidian_counts, **args)\n",
    "\n",
    "idxSet = range(10)\n",
    "result = list(map(lambda x: np.stack(x, axis=0), list(map(pool_map_fn, idxSet))))\n"
   ]
  },
  {
   "cell_type": "code",
   "execution_count": null,
   "metadata": {},
   "outputs": [],
   "source": [
    "cell_positions = df[['Cell X Position', 'Cell Y Position']].values\n",
    "cell_labels = pd.get_dummies(df['Lineage'])\n",
    "\n",
    "args = dict(cell_positions=cell_positions,\n",
    "            cell_labels=cell_labels.values,\n",
    "            dist_bin_px=dist_bin_px)\n",
    "pool_map_fn = partial(process_cell_counts, **args)\n",
    "\n",
    "idxSet = range(100)\n",
    "i, counts = list(map(lambda x: np.stack(x, axis=0), list(zip(*map(pool_map_fn, idxSet)))))"
   ]
  }
 ],
 "metadata": {
  "kernelspec": {
   "display_name": "Python 3",
   "language": "python",
   "name": "python3"
  },
  "language_info": {
   "codemirror_mode": {
    "name": "ipython",
    "version": 3
   },
   "file_extension": ".py",
   "mimetype": "text/x-python",
   "name": "python",
   "nbconvert_exporter": "python",
   "pygments_lexer": "ipython3",
   "version": "3.10.9"
  }
 },
 "nbformat": 4,
 "nbformat_minor": 2
}
